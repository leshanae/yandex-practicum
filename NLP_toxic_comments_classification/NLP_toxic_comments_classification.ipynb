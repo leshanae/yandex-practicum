{
 "cells": [
  {
   "cell_type": "markdown",
   "metadata": {},
   "source": [
    "# Проект для «Викишоп»"
   ]
  },
  {
   "cell_type": "markdown",
   "metadata": {
    "tags": []
   },
   "source": [
    "## Постановка задачи\n",
    "Интернет-магазин «Викишоп» запускает новый сервис. Теперь пользователи могут редактировать и дополнять описания товаров, как в вики-сообществах. То есть клиенты предлагают свои правки и комментируют изменения других. Магазину нужен инструмент, который будет искать токсичные комментарии и отправлять их на модерацию. \n",
    "\n",
    "Обучите модель классифицировать комментарии на позитивные и негативные. В вашем распоряжении набор данных с разметкой о токсичности правок.\n",
    "\n",
    "Постройте модель со значением метрики качества *F1* не меньше 0.75. \n",
    "\n",
    "Для выполнения проекта применять *BERT* необязательно, но вы можете попробовать.\n",
    "\n",
    "## Описание данных\n",
    "\n",
    "Данные находятся в файле `toxic_comments.csv`. Столбец *text* в нём содержит текст комментария, а *toxic* — целевой признак."
   ]
  },
  {
   "cell_type": "markdown",
   "metadata": {},
   "source": [
    "# Ход работы"
   ]
  },
  {
   "cell_type": "markdown",
   "metadata": {
    "tags": []
   },
   "source": [
    "## Импорт библиотек и настройки"
   ]
  },
  {
   "cell_type": "code",
   "execution_count": 1,
   "metadata": {
    "editable": true,
    "slideshow": {
     "slide_type": ""
    },
    "tags": []
   },
   "outputs": [],
   "source": [
    "import pandas as pd\n",
    "import numpy as np\n",
    "\n",
    "# Для визуализации\n",
    "import matplotlib.pyplot as plt\n",
    "\n",
    "# Для удобства\n",
    "import time\n",
    "from tqdm import tqdm, tqdm_notebook\n",
    "\n",
    "# Модели ML\n",
    "from sklearn.linear_model import LogisticRegression\n",
    "from lightgbm import LGBMClassifier\n",
    "from catboost import CatBoostClassifier\n",
    "\n",
    "# Для работы с моделями ML\n",
    "from sklearn.model_selection import train_test_split, StratifiedKFold, GridSearchCV\n",
    "from sklearn.pipeline import make_pipeline\n",
    "from sklearn.metrics import f1_score, roc_curve, roc_auc_score\n",
    "\n",
    "# Для работы с текстом\n",
    "import torch\n",
    "import transformers\n",
    "import spacy\n",
    "import nltk\n",
    "import re\n",
    "from nltk.corpus import stopwords as nltk_stopwords\n",
    "from sklearn.feature_extraction.text import TfidfVectorizer"
   ]
  },
  {
   "cell_type": "code",
   "execution_count": 2,
   "metadata": {},
   "outputs": [],
   "source": [
    "# Устанавливаем настройки отображения\n",
    "pd.set_option('display.expand_frame_repr', False)\n",
    "pd.set_option('display.max_rows', None)\n",
    "pd.set_option('display.max_columns', None)"
   ]
  },
  {
   "cell_type": "markdown",
   "metadata": {},
   "source": [
    "## 1. Загрузка данных"
   ]
  },
  {
   "cell_type": "code",
   "execution_count": 3,
   "metadata": {},
   "outputs": [],
   "source": [
    "try:\n",
    "    df = pd.read_csv('datasets/toxic_comments.csv')\n",
    "except:\n",
    "    df = pd.read_csv('/datasets/toxic_comments.csv')"
   ]
  },
  {
   "cell_type": "markdown",
   "metadata": {},
   "source": [
    "### Первичный взгляд на данные"
   ]
  },
  {
   "cell_type": "code",
   "execution_count": 4,
   "metadata": {},
   "outputs": [
    {
     "data": {
      "text/html": [
       "<div>\n",
       "<style scoped>\n",
       "    .dataframe tbody tr th:only-of-type {\n",
       "        vertical-align: middle;\n",
       "    }\n",
       "\n",
       "    .dataframe tbody tr th {\n",
       "        vertical-align: top;\n",
       "    }\n",
       "\n",
       "    .dataframe thead th {\n",
       "        text-align: right;\n",
       "    }\n",
       "</style>\n",
       "<table border=\"1\" class=\"dataframe\">\n",
       "  <thead>\n",
       "    <tr style=\"text-align: right;\">\n",
       "      <th></th>\n",
       "      <th>Unnamed: 0</th>\n",
       "      <th>text</th>\n",
       "      <th>toxic</th>\n",
       "    </tr>\n",
       "  </thead>\n",
       "  <tbody>\n",
       "    <tr>\n",
       "      <th>0</th>\n",
       "      <td>0</td>\n",
       "      <td>Explanation\\nWhy the edits made under my usern...</td>\n",
       "      <td>0</td>\n",
       "    </tr>\n",
       "    <tr>\n",
       "      <th>1</th>\n",
       "      <td>1</td>\n",
       "      <td>D'aww! He matches this background colour I'm s...</td>\n",
       "      <td>0</td>\n",
       "    </tr>\n",
       "    <tr>\n",
       "      <th>2</th>\n",
       "      <td>2</td>\n",
       "      <td>Hey man, I'm really not trying to edit war. It...</td>\n",
       "      <td>0</td>\n",
       "    </tr>\n",
       "    <tr>\n",
       "      <th>3</th>\n",
       "      <td>3</td>\n",
       "      <td>\"\\nMore\\nI can't make any real suggestions on ...</td>\n",
       "      <td>0</td>\n",
       "    </tr>\n",
       "    <tr>\n",
       "      <th>4</th>\n",
       "      <td>4</td>\n",
       "      <td>You, sir, are my hero. Any chance you remember...</td>\n",
       "      <td>0</td>\n",
       "    </tr>\n",
       "    <tr>\n",
       "      <th>5</th>\n",
       "      <td>5</td>\n",
       "      <td>\"\\n\\nCongratulations from me as well, use the ...</td>\n",
       "      <td>0</td>\n",
       "    </tr>\n",
       "    <tr>\n",
       "      <th>6</th>\n",
       "      <td>6</td>\n",
       "      <td>COCKSUCKER BEFORE YOU PISS AROUND ON MY WORK</td>\n",
       "      <td>1</td>\n",
       "    </tr>\n",
       "    <tr>\n",
       "      <th>7</th>\n",
       "      <td>7</td>\n",
       "      <td>Your vandalism to the Matt Shirvington article...</td>\n",
       "      <td>0</td>\n",
       "    </tr>\n",
       "    <tr>\n",
       "      <th>8</th>\n",
       "      <td>8</td>\n",
       "      <td>Sorry if the word 'nonsense' was offensive to ...</td>\n",
       "      <td>0</td>\n",
       "    </tr>\n",
       "    <tr>\n",
       "      <th>9</th>\n",
       "      <td>9</td>\n",
       "      <td>alignment on this subject and which are contra...</td>\n",
       "      <td>0</td>\n",
       "    </tr>\n",
       "    <tr>\n",
       "      <th>10</th>\n",
       "      <td>10</td>\n",
       "      <td>\"\\nFair use rationale for Image:Wonju.jpg\\n\\nT...</td>\n",
       "      <td>0</td>\n",
       "    </tr>\n",
       "    <tr>\n",
       "      <th>11</th>\n",
       "      <td>11</td>\n",
       "      <td>bbq \\n\\nbe a man and lets discuss it-maybe ove...</td>\n",
       "      <td>0</td>\n",
       "    </tr>\n",
       "    <tr>\n",
       "      <th>12</th>\n",
       "      <td>12</td>\n",
       "      <td>Hey... what is it..\\n@ | talk .\\nWhat is it......</td>\n",
       "      <td>1</td>\n",
       "    </tr>\n",
       "    <tr>\n",
       "      <th>13</th>\n",
       "      <td>13</td>\n",
       "      <td>Before you start throwing accusations and warn...</td>\n",
       "      <td>0</td>\n",
       "    </tr>\n",
       "    <tr>\n",
       "      <th>14</th>\n",
       "      <td>14</td>\n",
       "      <td>Oh, and the girl above started her arguments w...</td>\n",
       "      <td>0</td>\n",
       "    </tr>\n",
       "  </tbody>\n",
       "</table>\n",
       "</div>"
      ],
      "text/plain": [
       "    Unnamed: 0                                               text  toxic\n",
       "0            0  Explanation\\nWhy the edits made under my usern...      0\n",
       "1            1  D'aww! He matches this background colour I'm s...      0\n",
       "2            2  Hey man, I'm really not trying to edit war. It...      0\n",
       "3            3  \"\\nMore\\nI can't make any real suggestions on ...      0\n",
       "4            4  You, sir, are my hero. Any chance you remember...      0\n",
       "5            5  \"\\n\\nCongratulations from me as well, use the ...      0\n",
       "6            6       COCKSUCKER BEFORE YOU PISS AROUND ON MY WORK      1\n",
       "7            7  Your vandalism to the Matt Shirvington article...      0\n",
       "8            8  Sorry if the word 'nonsense' was offensive to ...      0\n",
       "9            9  alignment on this subject and which are contra...      0\n",
       "10          10  \"\\nFair use rationale for Image:Wonju.jpg\\n\\nT...      0\n",
       "11          11  bbq \\n\\nbe a man and lets discuss it-maybe ove...      0\n",
       "12          12  Hey... what is it..\\n@ | talk .\\nWhat is it......      1\n",
       "13          13  Before you start throwing accusations and warn...      0\n",
       "14          14  Oh, and the girl above started her arguments w...      0"
      ]
     },
     "execution_count": 4,
     "metadata": {},
     "output_type": "execute_result"
    }
   ],
   "source": [
    "df[:15]"
   ]
  },
  {
   "cell_type": "markdown",
   "metadata": {},
   "source": [
    "Текст на английском, требует лемматизации и очистки."
   ]
  },
  {
   "cell_type": "code",
   "execution_count": 5,
   "metadata": {},
   "outputs": [
    {
     "data": {
      "text/html": [
       "<div>\n",
       "<style scoped>\n",
       "    .dataframe tbody tr th:only-of-type {\n",
       "        vertical-align: middle;\n",
       "    }\n",
       "\n",
       "    .dataframe tbody tr th {\n",
       "        vertical-align: top;\n",
       "    }\n",
       "\n",
       "    .dataframe thead th {\n",
       "        text-align: right;\n",
       "    }\n",
       "</style>\n",
       "<table border=\"1\" class=\"dataframe\">\n",
       "  <thead>\n",
       "    <tr style=\"text-align: right;\">\n",
       "      <th></th>\n",
       "      <th>Unnamed: 0</th>\n",
       "      <th>text</th>\n",
       "      <th>toxic</th>\n",
       "    </tr>\n",
       "  </thead>\n",
       "  <tbody>\n",
       "    <tr>\n",
       "      <th>82191</th>\n",
       "      <td>82269</td>\n",
       "      <td>Sales Tax Remittance Question \\n\\nI'm confused...</td>\n",
       "      <td>0</td>\n",
       "    </tr>\n",
       "    <tr>\n",
       "      <th>53898</th>\n",
       "      <td>53959</td>\n",
       "      <td>Capitalization again \\n\\nDoc,\\n\\nI've responde...</td>\n",
       "      <td>0</td>\n",
       "    </tr>\n",
       "    <tr>\n",
       "      <th>110779</th>\n",
       "      <td>110876</td>\n",
       "      <td>\" Attention:\\nThis IP address, , is registered...</td>\n",
       "      <td>0</td>\n",
       "    </tr>\n",
       "    <tr>\n",
       "      <th>71876</th>\n",
       "      <td>71946</td>\n",
       "      <td>Mike Church \\n\\nI see that a new problem edito...</td>\n",
       "      <td>0</td>\n",
       "    </tr>\n",
       "    <tr>\n",
       "      <th>144516</th>\n",
       "      <td>144672</td>\n",
       "      <td>Thanks for the comforting reply. I just though...</td>\n",
       "      <td>0</td>\n",
       "    </tr>\n",
       "  </tbody>\n",
       "</table>\n",
       "</div>"
      ],
      "text/plain": [
       "        Unnamed: 0                                               text  toxic\n",
       "82191        82269  Sales Tax Remittance Question \\n\\nI'm confused...      0\n",
       "53898        53959  Capitalization again \\n\\nDoc,\\n\\nI've responde...      0\n",
       "110779      110876  \" Attention:\\nThis IP address, , is registered...      0\n",
       "71876        71946  Mike Church \\n\\nI see that a new problem edito...      0\n",
       "144516      144672  Thanks for the comforting reply. I just though...      0"
      ]
     },
     "execution_count": 5,
     "metadata": {},
     "output_type": "execute_result"
    }
   ],
   "source": [
    "df.sample(5)"
   ]
  },
  {
   "cell_type": "code",
   "execution_count": 6,
   "metadata": {},
   "outputs": [
    {
     "data": {
      "text/html": [
       "<div>\n",
       "<style scoped>\n",
       "    .dataframe tbody tr th:only-of-type {\n",
       "        vertical-align: middle;\n",
       "    }\n",
       "\n",
       "    .dataframe tbody tr th {\n",
       "        vertical-align: top;\n",
       "    }\n",
       "\n",
       "    .dataframe thead th {\n",
       "        text-align: right;\n",
       "    }\n",
       "</style>\n",
       "<table border=\"1\" class=\"dataframe\">\n",
       "  <thead>\n",
       "    <tr style=\"text-align: right;\">\n",
       "      <th></th>\n",
       "      <th>Unnamed: 0</th>\n",
       "      <th>text</th>\n",
       "      <th>toxic</th>\n",
       "    </tr>\n",
       "  </thead>\n",
       "  <tbody>\n",
       "    <tr>\n",
       "      <th>159277</th>\n",
       "      <td>159436</td>\n",
       "      <td>I'll be on IRC, too, if you have a more specif...</td>\n",
       "      <td>0</td>\n",
       "    </tr>\n",
       "    <tr>\n",
       "      <th>159278</th>\n",
       "      <td>159437</td>\n",
       "      <td>It is my opinion that that happens to be off-t...</td>\n",
       "      <td>0</td>\n",
       "    </tr>\n",
       "    <tr>\n",
       "      <th>159279</th>\n",
       "      <td>159438</td>\n",
       "      <td>Please stop removing content from Wikipedia; i...</td>\n",
       "      <td>0</td>\n",
       "    </tr>\n",
       "    <tr>\n",
       "      <th>159280</th>\n",
       "      <td>159439</td>\n",
       "      <td>Image:Barack-obama-mother.jpg listed for delet...</td>\n",
       "      <td>0</td>\n",
       "    </tr>\n",
       "    <tr>\n",
       "      <th>159281</th>\n",
       "      <td>159440</td>\n",
       "      <td>\"Editing of article without Consensus &amp; Remova...</td>\n",
       "      <td>0</td>\n",
       "    </tr>\n",
       "    <tr>\n",
       "      <th>159282</th>\n",
       "      <td>159441</td>\n",
       "      <td>\"\\nNo he did not, read it again (I would have ...</td>\n",
       "      <td>0</td>\n",
       "    </tr>\n",
       "    <tr>\n",
       "      <th>159283</th>\n",
       "      <td>159442</td>\n",
       "      <td>\"\\n Auto guides and the motoring press are not...</td>\n",
       "      <td>0</td>\n",
       "    </tr>\n",
       "    <tr>\n",
       "      <th>159284</th>\n",
       "      <td>159443</td>\n",
       "      <td>\"\\nplease identify what part of BLP applies be...</td>\n",
       "      <td>0</td>\n",
       "    </tr>\n",
       "    <tr>\n",
       "      <th>159285</th>\n",
       "      <td>159444</td>\n",
       "      <td>Catalan independentism is the social movement ...</td>\n",
       "      <td>0</td>\n",
       "    </tr>\n",
       "    <tr>\n",
       "      <th>159286</th>\n",
       "      <td>159445</td>\n",
       "      <td>The numbers in parentheses are the additional ...</td>\n",
       "      <td>0</td>\n",
       "    </tr>\n",
       "    <tr>\n",
       "      <th>159287</th>\n",
       "      <td>159446</td>\n",
       "      <td>\":::::And for the second time of asking, when ...</td>\n",
       "      <td>0</td>\n",
       "    </tr>\n",
       "    <tr>\n",
       "      <th>159288</th>\n",
       "      <td>159447</td>\n",
       "      <td>You should be ashamed of yourself \\n\\nThat is ...</td>\n",
       "      <td>0</td>\n",
       "    </tr>\n",
       "    <tr>\n",
       "      <th>159289</th>\n",
       "      <td>159448</td>\n",
       "      <td>Spitzer \\n\\nUmm, theres no actual article for ...</td>\n",
       "      <td>0</td>\n",
       "    </tr>\n",
       "    <tr>\n",
       "      <th>159290</th>\n",
       "      <td>159449</td>\n",
       "      <td>And it looks like it was actually you who put ...</td>\n",
       "      <td>0</td>\n",
       "    </tr>\n",
       "    <tr>\n",
       "      <th>159291</th>\n",
       "      <td>159450</td>\n",
       "      <td>\"\\nAnd ... I really don't think you understand...</td>\n",
       "      <td>0</td>\n",
       "    </tr>\n",
       "  </tbody>\n",
       "</table>\n",
       "</div>"
      ],
      "text/plain": [
       "        Unnamed: 0                                               text  toxic\n",
       "159277      159436  I'll be on IRC, too, if you have a more specif...      0\n",
       "159278      159437  It is my opinion that that happens to be off-t...      0\n",
       "159279      159438  Please stop removing content from Wikipedia; i...      0\n",
       "159280      159439  Image:Barack-obama-mother.jpg listed for delet...      0\n",
       "159281      159440  \"Editing of article without Consensus & Remova...      0\n",
       "159282      159441  \"\\nNo he did not, read it again (I would have ...      0\n",
       "159283      159442  \"\\n Auto guides and the motoring press are not...      0\n",
       "159284      159443  \"\\nplease identify what part of BLP applies be...      0\n",
       "159285      159444  Catalan independentism is the social movement ...      0\n",
       "159286      159445  The numbers in parentheses are the additional ...      0\n",
       "159287      159446  \":::::And for the second time of asking, when ...      0\n",
       "159288      159447  You should be ashamed of yourself \\n\\nThat is ...      0\n",
       "159289      159448  Spitzer \\n\\nUmm, theres no actual article for ...      0\n",
       "159290      159449  And it looks like it was actually you who put ...      0\n",
       "159291      159450  \"\\nAnd ... I really don't think you understand...      0"
      ]
     },
     "execution_count": 6,
     "metadata": {},
     "output_type": "execute_result"
    }
   ],
   "source": [
    "df.tail(15)"
   ]
  },
  {
   "cell_type": "markdown",
   "metadata": {},
   "source": [
    "Столбец 'Unnamed 0' содержит артефакты, использовать его в качестве индекса нельзя - требуется удалить."
   ]
  },
  {
   "cell_type": "code",
   "execution_count": 7,
   "metadata": {},
   "outputs": [
    {
     "name": "stdout",
     "output_type": "stream",
     "text": [
      "<class 'pandas.core.frame.DataFrame'>\n",
      "RangeIndex: 159292 entries, 0 to 159291\n",
      "Data columns (total 3 columns):\n",
      " #   Column      Non-Null Count   Dtype \n",
      "---  ------      --------------   ----- \n",
      " 0   Unnamed: 0  159292 non-null  int64 \n",
      " 1   text        159292 non-null  object\n",
      " 2   toxic       159292 non-null  int64 \n",
      "dtypes: int64(2), object(1)\n",
      "memory usage: 3.6+ MB\n"
     ]
    }
   ],
   "source": [
    "df.info()"
   ]
  },
  {
   "cell_type": "code",
   "execution_count": 8,
   "metadata": {},
   "outputs": [],
   "source": [
    "df_initial_shape = df.shape"
   ]
  },
  {
   "cell_type": "code",
   "execution_count": 9,
   "metadata": {
    "tags": []
   },
   "outputs": [
    {
     "data": {
      "text/html": [
       "<div>\n",
       "<style scoped>\n",
       "    .dataframe tbody tr th:only-of-type {\n",
       "        vertical-align: middle;\n",
       "    }\n",
       "\n",
       "    .dataframe tbody tr th {\n",
       "        vertical-align: top;\n",
       "    }\n",
       "\n",
       "    .dataframe thead th {\n",
       "        text-align: right;\n",
       "    }\n",
       "</style>\n",
       "<table border=\"1\" class=\"dataframe\">\n",
       "  <thead>\n",
       "    <tr style=\"text-align: right;\">\n",
       "      <th></th>\n",
       "      <th>Unnamed: 0</th>\n",
       "      <th>toxic</th>\n",
       "    </tr>\n",
       "  </thead>\n",
       "  <tbody>\n",
       "    <tr>\n",
       "      <th>count</th>\n",
       "      <td>159292.000000</td>\n",
       "      <td>159292.000000</td>\n",
       "    </tr>\n",
       "    <tr>\n",
       "      <th>mean</th>\n",
       "      <td>79725.697242</td>\n",
       "      <td>0.101612</td>\n",
       "    </tr>\n",
       "    <tr>\n",
       "      <th>std</th>\n",
       "      <td>46028.837471</td>\n",
       "      <td>0.302139</td>\n",
       "    </tr>\n",
       "    <tr>\n",
       "      <th>min</th>\n",
       "      <td>0.000000</td>\n",
       "      <td>0.000000</td>\n",
       "    </tr>\n",
       "    <tr>\n",
       "      <th>25%</th>\n",
       "      <td>39872.750000</td>\n",
       "      <td>0.000000</td>\n",
       "    </tr>\n",
       "    <tr>\n",
       "      <th>50%</th>\n",
       "      <td>79721.500000</td>\n",
       "      <td>0.000000</td>\n",
       "    </tr>\n",
       "    <tr>\n",
       "      <th>75%</th>\n",
       "      <td>119573.250000</td>\n",
       "      <td>0.000000</td>\n",
       "    </tr>\n",
       "    <tr>\n",
       "      <th>max</th>\n",
       "      <td>159450.000000</td>\n",
       "      <td>1.000000</td>\n",
       "    </tr>\n",
       "  </tbody>\n",
       "</table>\n",
       "</div>"
      ],
      "text/plain": [
       "          Unnamed: 0          toxic\n",
       "count  159292.000000  159292.000000\n",
       "mean    79725.697242       0.101612\n",
       "std     46028.837471       0.302139\n",
       "min         0.000000       0.000000\n",
       "25%     39872.750000       0.000000\n",
       "50%     79721.500000       0.000000\n",
       "75%    119573.250000       0.000000\n",
       "max    159450.000000       1.000000"
      ]
     },
     "execution_count": 9,
     "metadata": {},
     "output_type": "execute_result"
    }
   ],
   "source": [
    "df.describe()"
   ]
  },
  {
   "cell_type": "code",
   "execution_count": 10,
   "metadata": {},
   "outputs": [
    {
     "name": "stdout",
     "output_type": "stream",
     "text": [
      "0    0.898388\n",
      "1    0.101612\n",
      "Name: toxic, dtype: float64\n"
     ]
    }
   ],
   "source": [
    "# Видим сильные дисбаланс по mean и std, оценим ближе:\n",
    "print(df.toxic.value_counts(normalize=True))"
   ]
  },
  {
   "cell_type": "markdown",
   "metadata": {},
   "source": [
    "Передо мной стоит задача бинарной классификации, значит целевой признак это 0 и 1 в ответе. По среднему, равному 0,1 и сильному отклюнению в 0,3 видно, что между классами виден сильный дисбаланс, что нужно будет учесть при обучении моделей."
   ]
  },
  {
   "cell_type": "code",
   "execution_count": 11,
   "metadata": {
    "scrolled": true,
    "tags": []
   },
   "outputs": [
    {
     "data": {
      "text/plain": [
       "Unnamed: 0    0\n",
       "text          0\n",
       "toxic         0\n",
       "dtype: int64"
      ]
     },
     "execution_count": 11,
     "metadata": {},
     "output_type": "execute_result"
    }
   ],
   "source": [
    "df[df.duplicated(keep='first')].count()"
   ]
  },
  {
   "cell_type": "code",
   "execution_count": 12,
   "metadata": {},
   "outputs": [
    {
     "data": {
      "text/plain": [
       "Unnamed: 0    0\n",
       "text          0\n",
       "toxic         0\n",
       "dtype: int64"
      ]
     },
     "execution_count": 12,
     "metadata": {},
     "output_type": "execute_result"
    }
   ],
   "source": [
    "df.isna().sum()"
   ]
  },
  {
   "cell_type": "markdown",
   "metadata": {},
   "source": [
    "### Вывод\n",
    "По первому взгляду на данные можно сделать следующие выводы:\n",
    "\n",
    "Стиль:\n",
    "- Подозрительный столбец Unnamed это индекс, причём нечёткий - перед выгрузкой данных были удалены строки без сброса индекса, и сами данные были выгружены некорректно. Этот стобец нельзя использовать в качестве индекса.\n",
    "\n",
    "Первичная качественная оценка:\n",
    "- Типы данных в порядке;\n",
    "- Дубликатов нет;\n",
    "- Пропусков нет.\n",
    "\n",
    "Признаки:\n",
    "- Текст не чистый, требуются лемматизация и очистка;\n",
    "- Текст на английском;\n",
    "- Есть дисбаланс классов.\n",
    "\n",
    "Весь EDA сводится к удалению лишнего столбца, что мы сразу и делаем. С признаками и дисбалансом буду разбираться на этапе подготовки данных к моделированию."
   ]
  },
  {
   "cell_type": "code",
   "execution_count": 13,
   "metadata": {},
   "outputs": [],
   "source": [
    "df = df.drop('Unnamed: 0', axis=1)"
   ]
  },
  {
   "cell_type": "code",
   "execution_count": 14,
   "metadata": {
    "scrolled": true
   },
   "outputs": [
    {
     "name": "stdout",
     "output_type": "stream",
     "text": [
      "<class 'pandas.core.frame.DataFrame'>\n",
      "RangeIndex: 159292 entries, 0 to 159291\n",
      "Data columns (total 2 columns):\n",
      " #   Column  Non-Null Count   Dtype \n",
      "---  ------  --------------   ----- \n",
      " 0   text    159292 non-null  object\n",
      " 1   toxic   159292 non-null  int64 \n",
      "dtypes: int64(1), object(1)\n",
      "memory usage: 2.4+ MB\n"
     ]
    }
   ],
   "source": [
    "df.info()"
   ]
  },
  {
   "cell_type": "code",
   "execution_count": 15,
   "metadata": {},
   "outputs": [
    {
     "data": {
      "text/html": [
       "<div>\n",
       "<style scoped>\n",
       "    .dataframe tbody tr th:only-of-type {\n",
       "        vertical-align: middle;\n",
       "    }\n",
       "\n",
       "    .dataframe tbody tr th {\n",
       "        vertical-align: top;\n",
       "    }\n",
       "\n",
       "    .dataframe thead th {\n",
       "        text-align: right;\n",
       "    }\n",
       "</style>\n",
       "<table border=\"1\" class=\"dataframe\">\n",
       "  <thead>\n",
       "    <tr style=\"text-align: right;\">\n",
       "      <th></th>\n",
       "      <th>text</th>\n",
       "      <th>toxic</th>\n",
       "    </tr>\n",
       "  </thead>\n",
       "  <tbody>\n",
       "    <tr>\n",
       "      <th>159277</th>\n",
       "      <td>I'll be on IRC, too, if you have a more specif...</td>\n",
       "      <td>0</td>\n",
       "    </tr>\n",
       "    <tr>\n",
       "      <th>159278</th>\n",
       "      <td>It is my opinion that that happens to be off-t...</td>\n",
       "      <td>0</td>\n",
       "    </tr>\n",
       "    <tr>\n",
       "      <th>159279</th>\n",
       "      <td>Please stop removing content from Wikipedia; i...</td>\n",
       "      <td>0</td>\n",
       "    </tr>\n",
       "    <tr>\n",
       "      <th>159280</th>\n",
       "      <td>Image:Barack-obama-mother.jpg listed for delet...</td>\n",
       "      <td>0</td>\n",
       "    </tr>\n",
       "    <tr>\n",
       "      <th>159281</th>\n",
       "      <td>\"Editing of article without Consensus &amp; Remova...</td>\n",
       "      <td>0</td>\n",
       "    </tr>\n",
       "    <tr>\n",
       "      <th>159282</th>\n",
       "      <td>\"\\nNo he did not, read it again (I would have ...</td>\n",
       "      <td>0</td>\n",
       "    </tr>\n",
       "    <tr>\n",
       "      <th>159283</th>\n",
       "      <td>\"\\n Auto guides and the motoring press are not...</td>\n",
       "      <td>0</td>\n",
       "    </tr>\n",
       "    <tr>\n",
       "      <th>159284</th>\n",
       "      <td>\"\\nplease identify what part of BLP applies be...</td>\n",
       "      <td>0</td>\n",
       "    </tr>\n",
       "    <tr>\n",
       "      <th>159285</th>\n",
       "      <td>Catalan independentism is the social movement ...</td>\n",
       "      <td>0</td>\n",
       "    </tr>\n",
       "    <tr>\n",
       "      <th>159286</th>\n",
       "      <td>The numbers in parentheses are the additional ...</td>\n",
       "      <td>0</td>\n",
       "    </tr>\n",
       "    <tr>\n",
       "      <th>159287</th>\n",
       "      <td>\":::::And for the second time of asking, when ...</td>\n",
       "      <td>0</td>\n",
       "    </tr>\n",
       "    <tr>\n",
       "      <th>159288</th>\n",
       "      <td>You should be ashamed of yourself \\n\\nThat is ...</td>\n",
       "      <td>0</td>\n",
       "    </tr>\n",
       "    <tr>\n",
       "      <th>159289</th>\n",
       "      <td>Spitzer \\n\\nUmm, theres no actual article for ...</td>\n",
       "      <td>0</td>\n",
       "    </tr>\n",
       "    <tr>\n",
       "      <th>159290</th>\n",
       "      <td>And it looks like it was actually you who put ...</td>\n",
       "      <td>0</td>\n",
       "    </tr>\n",
       "    <tr>\n",
       "      <th>159291</th>\n",
       "      <td>\"\\nAnd ... I really don't think you understand...</td>\n",
       "      <td>0</td>\n",
       "    </tr>\n",
       "  </tbody>\n",
       "</table>\n",
       "</div>"
      ],
      "text/plain": [
       "                                                     text  toxic\n",
       "159277  I'll be on IRC, too, if you have a more specif...      0\n",
       "159278  It is my opinion that that happens to be off-t...      0\n",
       "159279  Please stop removing content from Wikipedia; i...      0\n",
       "159280  Image:Barack-obama-mother.jpg listed for delet...      0\n",
       "159281  \"Editing of article without Consensus & Remova...      0\n",
       "159282  \"\\nNo he did not, read it again (I would have ...      0\n",
       "159283  \"\\n Auto guides and the motoring press are not...      0\n",
       "159284  \"\\nplease identify what part of BLP applies be...      0\n",
       "159285  Catalan independentism is the social movement ...      0\n",
       "159286  The numbers in parentheses are the additional ...      0\n",
       "159287  \":::::And for the second time of asking, when ...      0\n",
       "159288  You should be ashamed of yourself \\n\\nThat is ...      0\n",
       "159289  Spitzer \\n\\nUmm, theres no actual article for ...      0\n",
       "159290  And it looks like it was actually you who put ...      0\n",
       "159291  \"\\nAnd ... I really don't think you understand...      0"
      ]
     },
     "execution_count": 15,
     "metadata": {},
     "output_type": "execute_result"
    }
   ],
   "source": [
    "df.tail(15)"
   ]
  },
  {
   "cell_type": "markdown",
   "metadata": {},
   "source": [
    "## 2. Подготовка"
   ]
  },
  {
   "cell_type": "markdown",
   "metadata": {},
   "source": [
    "### Лемматизация и очистка текста от символов и стоп-слов"
   ]
  },
  {
   "cell_type": "markdown",
   "metadata": {},
   "source": [
    "Напишу функцию, которая будет лемматизировать на английском и чистить от лишних симолов и операторов.<br>\n",
    "В этом случае лемматизатор pymystem3 не подходит (он для кириллицы). Хорошими выборами будут WordNetLemmatizer или SpaCy. Беру Spacy - его можно быстрее настроить."
   ]
  },
  {
   "cell_type": "code",
   "execution_count": 16,
   "metadata": {},
   "outputs": [],
   "source": [
    "# Инициализируем лемматизатор\n",
    "lemmatizer = spacy.load('en_core_web_sm', exclude=['parser', 'ner'])\n",
    "\n",
    "# Подгружаем стоп-слова\n",
    "spacy_stopwords = lemmatizer.Defaults.stop_words"
   ]
  },
  {
   "cell_type": "code",
   "execution_count": 17,
   "metadata": {},
   "outputs": [],
   "source": [
    "def lemmings(filthy_text):\n",
    "    '''\n",
    "    Функция лемматизации и очистки текста на английском языке. На вход принимает неочищенный текстовый вектор. На выход отдаёт очищенный.\n",
    "    '''\n",
    "\n",
    "    clean_text = \" \".join(re.sub(r'[^a-zA-Z]', ' ', filthy_text.lower()).split())\n",
    "    lemmatized = \" \".join([token.lemma_ for token in lemmatizer(clean_text)])\n",
    "\n",
    "    stopped = []\n",
    "    for token in lemmatized.split():\n",
    "        if token not in spacy_stopwords:\n",
    "            stopped.append(token)\n",
    "\n",
    "    return \" \".join(stopped)"
   ]
  },
  {
   "cell_type": "code",
   "execution_count": 18,
   "metadata": {},
   "outputs": [
    {
     "name": "stderr",
     "output_type": "stream",
     "text": [
      "100%|█████████████████████████████████████████████████████████████████████████████████| 15/15 [00:00<00:00, 147.39it/s]\n"
     ]
    },
    {
     "data": {
      "text/html": [
       "<div>\n",
       "<style scoped>\n",
       "    .dataframe tbody tr th:only-of-type {\n",
       "        vertical-align: middle;\n",
       "    }\n",
       "\n",
       "    .dataframe tbody tr th {\n",
       "        vertical-align: top;\n",
       "    }\n",
       "\n",
       "    .dataframe thead th {\n",
       "        text-align: right;\n",
       "    }\n",
       "</style>\n",
       "<table border=\"1\" class=\"dataframe\">\n",
       "  <thead>\n",
       "    <tr style=\"text-align: right;\">\n",
       "      <th></th>\n",
       "      <th>text</th>\n",
       "      <th>toxic</th>\n",
       "      <th>text_test</th>\n",
       "    </tr>\n",
       "  </thead>\n",
       "  <tbody>\n",
       "    <tr>\n",
       "      <th>154575</th>\n",
       "      <td>DVD? Are you sure about that? Anyway, while it...</td>\n",
       "      <td>0</td>\n",
       "      <td>dvd sure remain possible don t significant pro...</td>\n",
       "    </tr>\n",
       "    <tr>\n",
       "      <th>58320</th>\n",
       "      <td>Sarah Palin's family \\n\\nWhy (or for that matt...</td>\n",
       "      <td>0</td>\n",
       "      <td>sarah palin s family matter mention bristol pa...</td>\n",
       "    </tr>\n",
       "    <tr>\n",
       "      <th>85240</th>\n",
       "      <td>Thrindel is a faggot. \\n\\nDiscuss Delete.</td>\n",
       "      <td>1</td>\n",
       "      <td>thrindel faggot discuss delete</td>\n",
       "    </tr>\n",
       "    <tr>\n",
       "      <th>44543</th>\n",
       "      <td>\"\\nWhen you changed name, did someone else reg...</td>\n",
       "      <td>0</td>\n",
       "      <td>change register</td>\n",
       "    </tr>\n",
       "    <tr>\n",
       "      <th>63471</th>\n",
       "      <td>No thats not what I am suggesting. They are an...</td>\n",
       "      <td>0</td>\n",
       "      <td>s I suggest illegal organisation illegal terro...</td>\n",
       "    </tr>\n",
       "    <tr>\n",
       "      <th>68756</th>\n",
       "      <td>WHY DO YOU THINK TRIVIUM'S MUSIC IS GREA TIDIO...</td>\n",
       "      <td>1</td>\n",
       "      <td>think trivium s music grea tidiot s fucking me...</td>\n",
       "    </tr>\n",
       "    <tr>\n",
       "      <th>60398</th>\n",
       "      <td>It would be helpful if you provided a little m...</td>\n",
       "      <td>0</td>\n",
       "      <td>helpful provide little information mean don t ...</td>\n",
       "    </tr>\n",
       "    <tr>\n",
       "      <th>14663</th>\n",
       "      <td>DYK nomination of Salt surface structures\\n He...</td>\n",
       "      <td>0</td>\n",
       "      <td>dyk nomination salt surface structure hello su...</td>\n",
       "    </tr>\n",
       "    <tr>\n",
       "      <th>151615</th>\n",
       "      <td>Yes, the form is very 'modern', at least the w...</td>\n",
       "      <td>0</td>\n",
       "      <td>yes form modern way guy translate daniel ladin...</td>\n",
       "    </tr>\n",
       "    <tr>\n",
       "      <th>13503</th>\n",
       "      <td>/b/ random. \\n\\nThen I will feed them to you.</td>\n",
       "      <td>0</td>\n",
       "      <td>b random I feed</td>\n",
       "    </tr>\n",
       "    <tr>\n",
       "      <th>49534</th>\n",
       "      <td>Requesting deletion?\\n\\nProf. Raphael: I notic...</td>\n",
       "      <td>0</td>\n",
       "      <td>request deletion prof raphael I notice blank a...</td>\n",
       "    </tr>\n",
       "    <tr>\n",
       "      <th>141667</th>\n",
       "      <td>Question \\n\\nI'll make the leap of faith that ...</td>\n",
       "      <td>0</td>\n",
       "      <td>question I ll leap faith bad blood I issue tim...</td>\n",
       "    </tr>\n",
       "    <tr>\n",
       "      <th>619</th>\n",
       "      <td>\"\\n\\n should be jaeger \\n\\nregardless of what ...</td>\n",
       "      <td>0</td>\n",
       "      <td>jaeger regardless people decide erens jaeger l...</td>\n",
       "    </tr>\n",
       "    <tr>\n",
       "      <th>13696</th>\n",
       "      <td>Ways to improve Gulrej khan king \\n\\nHi, I'm L...</td>\n",
       "      <td>0</td>\n",
       "      <td>way improve gulrej khan king hi I m lstanley g...</td>\n",
       "    </tr>\n",
       "    <tr>\n",
       "      <th>6486</th>\n",
       "      <td>\"\\n\\nRomanization for words of English origin\\...</td>\n",
       "      <td>0</td>\n",
       "      <td>romanization word english origin mos jp talk p...</td>\n",
       "    </tr>\n",
       "  </tbody>\n",
       "</table>\n",
       "</div>"
      ],
      "text/plain": [
       "                                                     text  toxic                                          text_test\n",
       "154575  DVD? Are you sure about that? Anyway, while it...      0  dvd sure remain possible don t significant pro...\n",
       "58320   Sarah Palin's family \\n\\nWhy (or for that matt...      0  sarah palin s family matter mention bristol pa...\n",
       "85240           Thrindel is a faggot. \\n\\nDiscuss Delete.      1                     thrindel faggot discuss delete\n",
       "44543   \"\\nWhen you changed name, did someone else reg...      0                                    change register\n",
       "63471   No thats not what I am suggesting. They are an...      0  s I suggest illegal organisation illegal terro...\n",
       "68756   WHY DO YOU THINK TRIVIUM'S MUSIC IS GREA TIDIO...      1  think trivium s music grea tidiot s fucking me...\n",
       "60398   It would be helpful if you provided a little m...      0  helpful provide little information mean don t ...\n",
       "14663   DYK nomination of Salt surface structures\\n He...      0  dyk nomination salt surface structure hello su...\n",
       "151615  Yes, the form is very 'modern', at least the w...      0  yes form modern way guy translate daniel ladin...\n",
       "13503       /b/ random. \\n\\nThen I will feed them to you.      0                                    b random I feed\n",
       "49534   Requesting deletion?\\n\\nProf. Raphael: I notic...      0  request deletion prof raphael I notice blank a...\n",
       "141667  Question \\n\\nI'll make the leap of faith that ...      0  question I ll leap faith bad blood I issue tim...\n",
       "619     \"\\n\\n should be jaeger \\n\\nregardless of what ...      0  jaeger regardless people decide erens jaeger l...\n",
       "13696   Ways to improve Gulrej khan king \\n\\nHi, I'm L...      0  way improve gulrej khan king hi I m lstanley g...\n",
       "6486    \"\\n\\nRomanization for words of English origin\\...      0  romanization word english origin mos jp talk p..."
      ]
     },
     "metadata": {},
     "output_type": "display_data"
    }
   ],
   "source": [
    "# Проверим на небольшом куске датасета\n",
    "df_lemma_test = df.sample(15)\n",
    "tqdm.pandas()\n",
    "df_lemma_test['text_test'] = df_lemma_test['text'].progress_apply(lemmings)\n",
    "display(df_lemma_test)\n",
    "\n",
    "del df_lemma_test"
   ]
  },
  {
   "cell_type": "markdown",
   "metadata": {},
   "source": [
    "Функция отрабатывает нормально, можно применять к датасету."
   ]
  },
  {
   "cell_type": "code",
   "execution_count": 19,
   "metadata": {},
   "outputs": [
    {
     "name": "stderr",
     "output_type": "stream",
     "text": [
      "100%|█████████████████████████████████████████████████████████████████████████| 159292/159292 [13:45<00:00, 192.95it/s]\n"
     ]
    }
   ],
   "source": [
    "# Применим функцию к данным\n",
    "tqdm.pandas()\n",
    "df['text_lemmy'] = df['text'].progress_apply(lemmings)"
   ]
  },
  {
   "cell_type": "code",
   "execution_count": 20,
   "metadata": {
    "scrolled": true
   },
   "outputs": [
    {
     "data": {
      "text/html": [
       "<div>\n",
       "<style scoped>\n",
       "    .dataframe tbody tr th:only-of-type {\n",
       "        vertical-align: middle;\n",
       "    }\n",
       "\n",
       "    .dataframe tbody tr th {\n",
       "        vertical-align: top;\n",
       "    }\n",
       "\n",
       "    .dataframe thead th {\n",
       "        text-align: right;\n",
       "    }\n",
       "</style>\n",
       "<table border=\"1\" class=\"dataframe\">\n",
       "  <thead>\n",
       "    <tr style=\"text-align: right;\">\n",
       "      <th></th>\n",
       "      <th>text</th>\n",
       "      <th>toxic</th>\n",
       "      <th>text_lemmy</th>\n",
       "    </tr>\n",
       "  </thead>\n",
       "  <tbody>\n",
       "    <tr>\n",
       "      <th>0</th>\n",
       "      <td>Explanation\\nWhy the edits made under my usern...</td>\n",
       "      <td>0</td>\n",
       "      <td>explanation edit username hardcore metallica f...</td>\n",
       "    </tr>\n",
       "    <tr>\n",
       "      <th>1</th>\n",
       "      <td>D'aww! He matches this background colour I'm s...</td>\n",
       "      <td>0</td>\n",
       "      <td>d aww match background colour I m seemingly st...</td>\n",
       "    </tr>\n",
       "    <tr>\n",
       "      <th>2</th>\n",
       "      <td>Hey man, I'm really not trying to edit war. It...</td>\n",
       "      <td>0</td>\n",
       "      <td>hey man I m try edit war s guy constantly remo...</td>\n",
       "    </tr>\n",
       "    <tr>\n",
       "      <th>3</th>\n",
       "      <td>\"\\nMore\\nI can't make any real suggestions on ...</td>\n",
       "      <td>0</td>\n",
       "      <td>I t real suggestion improvement I wonder secti...</td>\n",
       "    </tr>\n",
       "    <tr>\n",
       "      <th>4</th>\n",
       "      <td>You, sir, are my hero. Any chance you remember...</td>\n",
       "      <td>0</td>\n",
       "      <td>sir hero chance remember page s</td>\n",
       "    </tr>\n",
       "  </tbody>\n",
       "</table>\n",
       "</div>"
      ],
      "text/plain": [
       "                                                text  toxic                                         text_lemmy\n",
       "0  Explanation\\nWhy the edits made under my usern...      0  explanation edit username hardcore metallica f...\n",
       "1  D'aww! He matches this background colour I'm s...      0  d aww match background colour I m seemingly st...\n",
       "2  Hey man, I'm really not trying to edit war. It...      0  hey man I m try edit war s guy constantly remo...\n",
       "3  \"\\nMore\\nI can't make any real suggestions on ...      0  I t real suggestion improvement I wonder secti...\n",
       "4  You, sir, are my hero. Any chance you remember...      0                    sir hero chance remember page s"
      ]
     },
     "execution_count": 20,
     "metadata": {},
     "output_type": "execute_result"
    }
   ],
   "source": [
    "df[:5]"
   ]
  },
  {
   "cell_type": "code",
   "execution_count": 21,
   "metadata": {},
   "outputs": [
    {
     "data": {
      "text/html": [
       "<div>\n",
       "<style scoped>\n",
       "    .dataframe tbody tr th:only-of-type {\n",
       "        vertical-align: middle;\n",
       "    }\n",
       "\n",
       "    .dataframe tbody tr th {\n",
       "        vertical-align: top;\n",
       "    }\n",
       "\n",
       "    .dataframe thead th {\n",
       "        text-align: right;\n",
       "    }\n",
       "</style>\n",
       "<table border=\"1\" class=\"dataframe\">\n",
       "  <thead>\n",
       "    <tr style=\"text-align: right;\">\n",
       "      <th></th>\n",
       "      <th>text</th>\n",
       "      <th>toxic</th>\n",
       "      <th>text_lemmy</th>\n",
       "    </tr>\n",
       "  </thead>\n",
       "  <tbody>\n",
       "    <tr>\n",
       "      <th>77653</th>\n",
       "      <td>\"Hello, ! Thank you so much for taking part in...</td>\n",
       "      <td>0</td>\n",
       "      <td>hello thank universitas workshop ve learn basi...</td>\n",
       "    </tr>\n",
       "    <tr>\n",
       "      <th>41858</th>\n",
       "      <td>So finally, Wikipedia's ultimate weapon is whe...</td>\n",
       "      <td>0</td>\n",
       "      <td>finally wikipedia s ultimate weapon wheel sile...</td>\n",
       "    </tr>\n",
       "    <tr>\n",
       "      <th>90165</th>\n",
       "      <td>The following pages should be deleted they do ...</td>\n",
       "      <td>0</td>\n",
       "      <td>follow page delete meet wikipedia crtieria gre...</td>\n",
       "    </tr>\n",
       "    <tr>\n",
       "      <th>48176</th>\n",
       "      <td>WP:Hornbook  a new law-related task force for ...</td>\n",
       "      <td>0</td>\n",
       "      <td>wp hornbook new law relate task force j d curr...</td>\n",
       "    </tr>\n",
       "    <tr>\n",
       "      <th>139765</th>\n",
       "      <td>Oh not you again!!! And so? After the block ha...</td>\n",
       "      <td>1</td>\n",
       "      <td>oh block expire I m kick gwerns ass admin wann...</td>\n",
       "    </tr>\n",
       "  </tbody>\n",
       "</table>\n",
       "</div>"
      ],
      "text/plain": [
       "                                                     text  toxic                                         text_lemmy\n",
       "77653   \"Hello, ! Thank you so much for taking part in...      0  hello thank universitas workshop ve learn basi...\n",
       "41858   So finally, Wikipedia's ultimate weapon is whe...      0  finally wikipedia s ultimate weapon wheel sile...\n",
       "90165   The following pages should be deleted they do ...      0  follow page delete meet wikipedia crtieria gre...\n",
       "48176   WP:Hornbook  a new law-related task force for ...      0  wp hornbook new law relate task force j d curr...\n",
       "139765  Oh not you again!!! And so? After the block ha...      1  oh block expire I m kick gwerns ass admin wann..."
      ]
     },
     "execution_count": 21,
     "metadata": {},
     "output_type": "execute_result"
    }
   ],
   "source": [
    "df.sample(5)"
   ]
  },
  {
   "cell_type": "code",
   "execution_count": 22,
   "metadata": {},
   "outputs": [
    {
     "data": {
      "text/plain": [
       "text          0\n",
       "toxic         0\n",
       "text_lemmy    0\n",
       "dtype: int64"
      ]
     },
     "execution_count": 22,
     "metadata": {},
     "output_type": "execute_result"
    }
   ],
   "source": [
    "df.isna().sum()"
   ]
  },
  {
   "cell_type": "code",
   "execution_count": 23,
   "metadata": {},
   "outputs": [],
   "source": [
    "# Удалим неочищенный столбец и сразу проверим.\n",
    "df = df.drop('text', axis=1)"
   ]
  },
  {
   "cell_type": "code",
   "execution_count": 24,
   "metadata": {
    "scrolled": true
   },
   "outputs": [
    {
     "data": {
      "text/html": [
       "<div>\n",
       "<style scoped>\n",
       "    .dataframe tbody tr th:only-of-type {\n",
       "        vertical-align: middle;\n",
       "    }\n",
       "\n",
       "    .dataframe tbody tr th {\n",
       "        vertical-align: top;\n",
       "    }\n",
       "\n",
       "    .dataframe thead th {\n",
       "        text-align: right;\n",
       "    }\n",
       "</style>\n",
       "<table border=\"1\" class=\"dataframe\">\n",
       "  <thead>\n",
       "    <tr style=\"text-align: right;\">\n",
       "      <th></th>\n",
       "      <th>toxic</th>\n",
       "      <th>text_lemmy</th>\n",
       "    </tr>\n",
       "  </thead>\n",
       "  <tbody>\n",
       "    <tr>\n",
       "      <th>0</th>\n",
       "      <td>0</td>\n",
       "      <td>explanation edit username hardcore metallica f...</td>\n",
       "    </tr>\n",
       "    <tr>\n",
       "      <th>1</th>\n",
       "      <td>0</td>\n",
       "      <td>d aww match background colour I m seemingly st...</td>\n",
       "    </tr>\n",
       "    <tr>\n",
       "      <th>2</th>\n",
       "      <td>0</td>\n",
       "      <td>hey man I m try edit war s guy constantly remo...</td>\n",
       "    </tr>\n",
       "    <tr>\n",
       "      <th>3</th>\n",
       "      <td>0</td>\n",
       "      <td>I t real suggestion improvement I wonder secti...</td>\n",
       "    </tr>\n",
       "    <tr>\n",
       "      <th>4</th>\n",
       "      <td>0</td>\n",
       "      <td>sir hero chance remember page s</td>\n",
       "    </tr>\n",
       "  </tbody>\n",
       "</table>\n",
       "</div>"
      ],
      "text/plain": [
       "   toxic                                         text_lemmy\n",
       "0      0  explanation edit username hardcore metallica f...\n",
       "1      0  d aww match background colour I m seemingly st...\n",
       "2      0  hey man I m try edit war s guy constantly remo...\n",
       "3      0  I t real suggestion improvement I wonder secti...\n",
       "4      0                    sir hero chance remember page s"
      ]
     },
     "execution_count": 24,
     "metadata": {},
     "output_type": "execute_result"
    }
   ],
   "source": [
    "df[:5]"
   ]
  },
  {
   "cell_type": "code",
   "execution_count": 25,
   "metadata": {},
   "outputs": [
    {
     "data": {
      "text/html": [
       "<div>\n",
       "<style scoped>\n",
       "    .dataframe tbody tr th:only-of-type {\n",
       "        vertical-align: middle;\n",
       "    }\n",
       "\n",
       "    .dataframe tbody tr th {\n",
       "        vertical-align: top;\n",
       "    }\n",
       "\n",
       "    .dataframe thead th {\n",
       "        text-align: right;\n",
       "    }\n",
       "</style>\n",
       "<table border=\"1\" class=\"dataframe\">\n",
       "  <thead>\n",
       "    <tr style=\"text-align: right;\">\n",
       "      <th></th>\n",
       "      <th>toxic</th>\n",
       "      <th>text_lemmy</th>\n",
       "    </tr>\n",
       "  </thead>\n",
       "  <tbody>\n",
       "    <tr>\n",
       "      <th>150735</th>\n",
       "      <td>0</td>\n",
       "      <td>people simply disappear night remove register ...</td>\n",
       "    </tr>\n",
       "    <tr>\n",
       "      <th>21321</th>\n",
       "      <td>0</td>\n",
       "      <td>award portugese barnstar diligence eden tate t...</td>\n",
       "    </tr>\n",
       "    <tr>\n",
       "      <th>139105</th>\n",
       "      <td>0</td>\n",
       "      <td>criticism persecution prosecution new write ed...</td>\n",
       "    </tr>\n",
       "    <tr>\n",
       "      <th>155186</th>\n",
       "      <td>0</td>\n",
       "      <td>welcome hello jay welcome wikipedia thank cont...</td>\n",
       "    </tr>\n",
       "    <tr>\n",
       "      <th>83634</th>\n",
       "      <td>0</td>\n",
       "      <td>redirect talk indian labour law</td>\n",
       "    </tr>\n",
       "  </tbody>\n",
       "</table>\n",
       "</div>"
      ],
      "text/plain": [
       "        toxic                                         text_lemmy\n",
       "150735      0  people simply disappear night remove register ...\n",
       "21321       0  award portugese barnstar diligence eden tate t...\n",
       "139105      0  criticism persecution prosecution new write ed...\n",
       "155186      0  welcome hello jay welcome wikipedia thank cont...\n",
       "83634       0                    redirect talk indian labour law"
      ]
     },
     "execution_count": 25,
     "metadata": {},
     "output_type": "execute_result"
    }
   ],
   "source": [
    "df.sample(5)"
   ]
  },
  {
   "cell_type": "code",
   "execution_count": 26,
   "metadata": {},
   "outputs": [
    {
     "data": {
      "text/plain": [
       "toxic         0\n",
       "text_lemmy    0\n",
       "dtype: int64"
      ]
     },
     "execution_count": 26,
     "metadata": {},
     "output_type": "execute_result"
    }
   ],
   "source": [
    "df.isna().sum()"
   ]
  },
  {
   "cell_type": "markdown",
   "metadata": {},
   "source": [
    "Лемматизация и чистка проведены."
   ]
  },
  {
   "cell_type": "markdown",
   "metadata": {
    "tags": []
   },
   "source": [
    "## 3. Обучение\n",
    "Обучим модели:\n",
    "1. LogisticRegression\n",
    "2. LGBMRegressor\n",
    "3. CatBoostRegressor\n",
    "\n",
    "В моём распоряжении довольно приличное количество данных, поэтому для обучения можно выделить данных побольше - возьмём 9:1, а кроссвалидатору указываю 9 подвыборок.<br>\n",
    "Для борьбы с дисбалансом классов делаю стратификацию при делении на выборки. Также выбираю взвешивание весов, т.к. дисбаланс очень большой. Не буду применять техники сэмлирования, т.к. во-первых это даст более низкую точность моделей (либо слишком много полезного вырежется, либо слишком много шума добавлено), а во-вторых это долго.<br>\n",
    "Обучение пройдёт через pipeline, поэтому для чистоты кода в блоке обучения напишу функцию обучения моделей с GridSearch."
   ]
  },
  {
   "cell_type": "markdown",
   "metadata": {},
   "source": [
    "### Выборки"
   ]
  },
  {
   "cell_type": "code",
   "execution_count": 27,
   "metadata": {},
   "outputs": [],
   "source": [
    "# Выделаям целевой признак\n",
    "X = df['text_lemmy']\n",
    "y = df['toxic']\n",
    "\n",
    "# Учитвыая дисбаланс классов, укажем целевой признак для стратификации\n",
    "X_train, X_test, y_train, y_test = train_test_split(X, y,\n",
    "                                                    test_size = 0.1,\n",
    "                                                    stratify = y,\n",
    "                                                    random_state = 55555)"
   ]
  },
  {
   "cell_type": "code",
   "execution_count": 28,
   "metadata": {},
   "outputs": [
    {
     "data": {
      "text/plain": [
       "131685    information unreliable consider authoritative ...\n",
       "20837                        I rephrase mention player talk\n",
       "107565    october utc religious information remove histo...\n",
       "48226     fine I wait watch I skeptical wait half year p...\n",
       "94627     correct life life error slip lip like I long a...\n",
       "Name: text_lemmy, dtype: object"
      ]
     },
     "metadata": {},
     "output_type": "display_data"
    },
    {
     "data": {
      "text/plain": [
       "131685    0\n",
       "20837     0\n",
       "107565    0\n",
       "48226     0\n",
       "94627     0\n",
       "Name: toxic, dtype: int64"
      ]
     },
     "metadata": {},
     "output_type": "display_data"
    }
   ],
   "source": [
    "# Проверяем\n",
    "display(X_train.head())\n",
    "display(y_train.head())"
   ]
  },
  {
   "cell_type": "code",
   "execution_count": 29,
   "metadata": {},
   "outputs": [
    {
     "name": "stdout",
     "output_type": "stream",
     "text": [
      "Контроль размерности выборок - (признаки) и (целевой признак)\n",
      "Тренировочная выборка: (143362,) и (143362,)\n",
      "Тестовая выборка: (15930,) и (15930,)\n",
      "\n",
      "Доли от датасета\n",
      "Тренировочная выборка:\t90.00%\n",
      "Тестовая выборка:\t10.00%\n"
     ]
    }
   ],
   "source": [
    "print('Контроль размерности выборок - (признаки) и (целевой признак)')\n",
    "print(f'Тренировочная выборка: {X_train.shape} и {y_train.shape}')\n",
    "print(f'Тестовая выборка: {X_test.shape} и {y_test.shape}')\n",
    "print(f'\\nДоли от датасета')\n",
    "print(f'Тренировочная выборка:\\t{len(X_train)/len(df):.2%}')\n",
    "print(f'Тестовая выборка:\\t{len(X_test)/len(df):.2%}')"
   ]
  },
  {
   "cell_type": "markdown",
   "metadata": {},
   "source": [
    "### Настройки обучения\n",
    "Функция для обучения:"
   ]
  },
  {
   "cell_type": "code",
   "execution_count": 30,
   "metadata": {},
   "outputs": [],
   "source": [
    "def model_fitting(piped, param_grid, n, X, y):\n",
    "    '''\n",
    "    Функция обучения модели кроссвалидацей GridSearch в pipeline. На вход принимает\n",
    "        piped - инициализированный пайплайн\n",
    "        param_grid - сетка параметров пайплайна\n",
    "        n - количество подвыборок для кросс-валидации\n",
    "        X - признаки\n",
    "        y - целевой признак\n",
    "\n",
    "    На выход отдаёт обученную модель.\n",
    "    '''\n",
    "    model = GridSearchCV(piped,\n",
    "                         param_grid = param_grid,\n",
    "                         scoring = 'f1',\n",
    "                         cv = StratifiedKFold(n_splits = 5, shuffle = True, random_state = 55555),\n",
    "                         return_train_score = True)\n",
    "    model.fit(X, y)\n",
    "\n",
    "    return model"
   ]
  },
  {
   "cell_type": "markdown",
   "metadata": {},
   "source": [
    "### 3.1 LogReg"
   ]
  },
  {
   "cell_type": "code",
   "execution_count": 31,
   "metadata": {},
   "outputs": [],
   "source": [
    "# Инициализируем пайплайн\n",
    "pipe_logreg = make_pipeline(TfidfVectorizer(),\n",
    "                            LogisticRegression(n_jobs=-1, class_weight='balanced', random_state=55555)) #, solver='saga', penalty='elasticnet'\n",
    "\n",
    "# Параметры для пайплайна\n",
    "param_logreg = [{'tfidfvectorizer__max_df':[0.1, 0.3, 0.5],\n",
    "                 'logisticregression__C':[0.1, 1, 10, 50]}]#,\n",
    "                 # 'logisticregression__l1_ratio':np.arange(0.0, 1.1, 0.5)}]"
   ]
  },
  {
   "cell_type": "code",
   "execution_count": 32,
   "metadata": {},
   "outputs": [
    {
     "name": "stdout",
     "output_type": "stream",
     "text": [
      "CPU times: total: 6min 52s\n",
      "Wall time: 10min 52s\n"
     ]
    }
   ],
   "source": [
    "%%time\n",
    "\n",
    "# Обучим модель и засечём время\n",
    "fit_start = time.time()\n",
    "model_logreg = model_fitting(pipe_logreg, param_logreg, 5, X_train, y_train)\n",
    "fit_end = time.time()"
   ]
  },
  {
   "cell_type": "code",
   "execution_count": 33,
   "metadata": {},
   "outputs": [],
   "source": [
    "# Соберём данные для визуализации\n",
    "total_fit_time_logreg = fit_end - fit_start\n",
    "mean_fit_time_logreg = model_logreg.cv_results_['mean_fit_time'].mean()\n",
    "mean_score_time_logreg = model_logreg.cv_results_['mean_score_time'].mean()\n",
    "best_score_logreg = abs(model_logreg.best_score_)\n",
    "n_models_logreg = 5*len(model_logreg.cv_results_['params'])\n",
    "\n",
    "results_logreg = [best_score_logreg,\n",
    "                  mean_fit_time_logreg,\n",
    "                  mean_score_time_logreg,\n",
    "                  n_models_logreg,\n",
    "                  total_fit_time_logreg]"
   ]
  },
  {
   "cell_type": "markdown",
   "metadata": {},
   "source": [
    "#### Результат"
   ]
  },
  {
   "cell_type": "code",
   "execution_count": 34,
   "metadata": {},
   "outputs": [
    {
     "name": "stdout",
     "output_type": "stream",
     "text": [
      "Лучший результат F1: 0.7641422028934995\n",
      "Среднее время обучения: 7.061787962913512 с\n",
      "Среднее время предсказания: 0.7285221099853515 с\n",
      "Количество обученных моделей: 60\n",
      "Общее время обучения на GridSearchCV с 5 фолдами: 652.9137034416199 с\n"
     ]
    },
    {
     "data": {
      "text/plain": [
       "{'logisticregression__C': 10, 'tfidfvectorizer__max_df': 0.3}"
      ]
     },
     "metadata": {},
     "output_type": "display_data"
    }
   ],
   "source": [
    "print(f'Лучший результат F1: {results_logreg[0]}')\n",
    "print(f'Среднее время обучения: {results_logreg[1]} с')\n",
    "print(f'Среднее время предсказания: {results_logreg[2]} с')\n",
    "print(f'Количество обученных моделей: {results_logreg[3]}')\n",
    "print(f'Общее время обучения на GridSearchCV с 5 фолдами: {results_logreg[4]} с')\n",
    "display(model_logreg.best_params_)"
   ]
  },
  {
   "cell_type": "markdown",
   "metadata": {},
   "source": [
    "### 3.2 LGBMClassifier"
   ]
  },
  {
   "cell_type": "code",
   "execution_count": 35,
   "metadata": {},
   "outputs": [],
   "source": [
    "# Инициализируем пайплайн\n",
    "pipe_lgbm = make_pipeline(TfidfVectorizer(),\n",
    "                          LGBMClassifier(class_weight = 'balanced', learning_rate = 0.1, random_state = 55555))\n",
    "\n",
    "# Параметры для пайплайна\n",
    "param_lgbm = [{'tfidfvectorizer__max_df': [0.1, 0.3, 0.5],\n",
    "               'lgbmclassifier__n_estimators' : range(11, 21, 2) }]"
   ]
  },
  {
   "cell_type": "code",
   "execution_count": 36,
   "metadata": {},
   "outputs": [
    {
     "name": "stdout",
     "output_type": "stream",
     "text": [
      "CPU times: total: 1h 41min 21s\n",
      "Wall time: 23min 31s\n"
     ]
    }
   ],
   "source": [
    "%%time\n",
    "\n",
    "# Обучим модель и засечём время\n",
    "fit_start = time.time()\n",
    "model_lgbm = model_fitting(pipe_lgbm, param_lgbm, 5, X_train, y_train)\n",
    "fit_end = time.time()"
   ]
  },
  {
   "cell_type": "code",
   "execution_count": 37,
   "metadata": {},
   "outputs": [],
   "source": [
    "# Соберём данные для визуализации\n",
    "results_lgbm = [abs(model_lgbm.best_score_),\n",
    "                model_lgbm.cv_results_['mean_fit_time'].mean(),\n",
    "                model_lgbm.cv_results_['mean_score_time'].mean(),\n",
    "                5*len(model_lgbm.cv_results_['params']),\n",
    "                fit_end - fit_start]"
   ]
  },
  {
   "cell_type": "markdown",
   "metadata": {},
   "source": [
    "#### Результат"
   ]
  },
  {
   "cell_type": "code",
   "execution_count": 38,
   "metadata": {},
   "outputs": [
    {
     "name": "stdout",
     "output_type": "stream",
     "text": [
      "Лучший результат F1: 0.7078504025139473\n",
      "Среднее время обучения: 13.715851586659749 с\n",
      "Среднее время предсказания: 1.066257988611857 с\n",
      "Количество обученных моделей: 75\n",
      "Общее время обучения на GridSearchCV с 5 фолдами: 1411.2124729156494 с\n"
     ]
    },
    {
     "data": {
      "text/plain": [
       "{'lgbmclassifier__n_estimators': 17, 'tfidfvectorizer__max_df': 0.1}"
      ]
     },
     "metadata": {},
     "output_type": "display_data"
    }
   ],
   "source": [
    "print(f'Лучший результат F1: {results_lgbm[0]}')\n",
    "print(f'Среднее время обучения: {results_lgbm[1]} с')\n",
    "print(f'Среднее время предсказания: {results_lgbm[2]} с')\n",
    "print(f'Количество обученных моделей: {results_lgbm[3]}')\n",
    "print(f'Общее время обучения на GridSearchCV с 5 фолдами: {results_lgbm[4]} с')\n",
    "display(model_lgbm.best_params_)"
   ]
  },
  {
   "cell_type": "markdown",
   "metadata": {
    "tags": []
   },
   "source": [
    "### 3.3 CatBoostClassifier"
   ]
  },
  {
   "cell_type": "code",
   "execution_count": 39,
   "metadata": {},
   "outputs": [],
   "source": [
    "# Инициализируем пайплайн\n",
    "pipe_catboost = make_pipeline(TfidfVectorizer(),\n",
    "                              CatBoostClassifier(auto_class_weights = 'Balanced', random_state = 55555, verbose=False))\n",
    "\n",
    "# Параметры для пайплайна\n",
    "param_catboost = [{'tfidfvectorizer__max_df': [0.1, 0.3, 0.5],\n",
    "                   'catboostclassifier__iterations' : [100]}]"
   ]
  },
  {
   "cell_type": "code",
   "execution_count": 40,
   "metadata": {
    "scrolled": true
   },
   "outputs": [
    {
     "name": "stdout",
     "output_type": "stream",
     "text": [
      "CPU times: total: 3h 34min 41s\n",
      "Wall time: 43min 53s\n"
     ]
    }
   ],
   "source": [
    "%%time\n",
    "\n",
    "# Обучим модель и засечём время\n",
    "fit_start = time.time()\n",
    "model_catboost = model_fitting(pipe_catboost, param_catboost, 5, X_train, y_train)\n",
    "fit_end = time.time()"
   ]
  },
  {
   "cell_type": "code",
   "execution_count": 41,
   "metadata": {},
   "outputs": [],
   "source": [
    "# Соберём данные для визуализации\n",
    "results_catboost = [abs(model_catboost.best_score_),\n",
    "                    model_catboost.cv_results_['mean_fit_time'].mean(),\n",
    "                    model_catboost.cv_results_['mean_score_time'].mean(),\n",
    "                    5*len(model_catboost.cv_results_['params'])*50,\n",
    "                    fit_end - fit_start]"
   ]
  },
  {
   "cell_type": "markdown",
   "metadata": {},
   "source": [
    "#### Результат"
   ]
  },
  {
   "cell_type": "code",
   "execution_count": 42,
   "metadata": {},
   "outputs": [
    {
     "name": "stdout",
     "output_type": "stream",
     "text": [
      "Лучший результат F1: 0.7395808035717231\n",
      "Среднее время обучения: 157.30417178471885 с\n",
      "Среднее время предсказания: 1.6271150271097818 с\n",
      "Количество обученных моделей: 750\n",
      "Общее время обучения на GridSearchCV с 5 фолдами: 2633.0681080818176 с\n"
     ]
    },
    {
     "data": {
      "text/plain": [
       "{'catboostclassifier__iterations': 100, 'tfidfvectorizer__max_df': 0.1}"
      ]
     },
     "metadata": {},
     "output_type": "display_data"
    }
   ],
   "source": [
    "print(f'Лучший результат F1: {results_catboost[0]}')\n",
    "print(f'Среднее время обучения: {results_catboost[1]} с')\n",
    "print(f'Среднее время предсказания: {results_catboost[2]} с')\n",
    "print(f'Количество обученных моделей: {results_catboost[3]}')\n",
    "print(f'Общее время обучения на GridSearchCV с 5 фолдами: {results_catboost[4]} с')\n",
    "display(model_catboost.best_params_)"
   ]
  },
  {
   "cell_type": "markdown",
   "metadata": {
    "tags": []
   },
   "source": [
    "### Сравнение моделей"
   ]
  },
  {
   "cell_type": "code",
   "execution_count": 43,
   "metadata": {
    "tags": []
   },
   "outputs": [
    {
     "data": {
      "text/html": [
       "<div>\n",
       "<style scoped>\n",
       "    .dataframe tbody tr th:only-of-type {\n",
       "        vertical-align: middle;\n",
       "    }\n",
       "\n",
       "    .dataframe tbody tr th {\n",
       "        vertical-align: top;\n",
       "    }\n",
       "\n",
       "    .dataframe thead th {\n",
       "        text-align: right;\n",
       "    }\n",
       "</style>\n",
       "<table border=\"1\" class=\"dataframe\">\n",
       "  <thead>\n",
       "    <tr style=\"text-align: right;\">\n",
       "      <th></th>\n",
       "      <th>F1_score</th>\n",
       "      <th>mean_fit_time</th>\n",
       "      <th>mean_score_time</th>\n",
       "      <th>n_models</th>\n",
       "      <th>total_fit_time</th>\n",
       "    </tr>\n",
       "  </thead>\n",
       "  <tbody>\n",
       "    <tr>\n",
       "      <th>LogReg</th>\n",
       "      <td>0.764142</td>\n",
       "      <td>7.061788</td>\n",
       "      <td>0.728522</td>\n",
       "      <td>60</td>\n",
       "      <td>652.913703</td>\n",
       "    </tr>\n",
       "    <tr>\n",
       "      <th>LGBM</th>\n",
       "      <td>0.707850</td>\n",
       "      <td>13.715852</td>\n",
       "      <td>1.066258</td>\n",
       "      <td>75</td>\n",
       "      <td>1411.212473</td>\n",
       "    </tr>\n",
       "    <tr>\n",
       "      <th>CatBoost</th>\n",
       "      <td>0.739581</td>\n",
       "      <td>157.304172</td>\n",
       "      <td>1.627115</td>\n",
       "      <td>750</td>\n",
       "      <td>2633.068108</td>\n",
       "    </tr>\n",
       "  </tbody>\n",
       "</table>\n",
       "</div>"
      ],
      "text/plain": [
       "          F1_score  mean_fit_time  mean_score_time  n_models  total_fit_time\n",
       "LogReg    0.764142       7.061788         0.728522        60      652.913703\n",
       "LGBM      0.707850      13.715852         1.066258        75     1411.212473\n",
       "CatBoost  0.739581     157.304172         1.627115       750     2633.068108"
      ]
     },
     "execution_count": 43,
     "metadata": {},
     "output_type": "execute_result"
    }
   ],
   "source": [
    "# Сводим все интересующие нас результаты в одну таблицу.\n",
    "df_train_results = pd.DataFrame(data = [results_logreg,\n",
    "                                        results_lgbm,\n",
    "                                        results_catboost],\n",
    "                                index = ['LogReg',\n",
    "                                         'LGBM',\n",
    "                                         'CatBoost'],\n",
    "                                columns = ['F1_score',\n",
    "                                           'mean_fit_time',\n",
    "                                           'mean_score_time',\n",
    "                                           'n_models',\n",
    "                                           'total_fit_time'])\n",
    "\n",
    "df_train_results"
   ]
  },
  {
   "cell_type": "markdown",
   "metadata": {},
   "source": [
    "На обучающей выборке с кросс-валидацией лучший результат дала логистическая регрессия, её метрика F1 составила 0,764, что с натяжкой превышает заданный порог 0,75. Ожидается, что тестовую выборку она так не вытянет.<br>"
   ]
  },
  {
   "cell_type": "markdown",
   "metadata": {
    "tags": []
   },
   "source": [
    "### Тестирование\n",
    "Протестирую лучшую модель из этапе обучения на тестовой выборке:"
   ]
  },
  {
   "cell_type": "code",
   "execution_count": 44,
   "metadata": {},
   "outputs": [
    {
     "data": {
      "text/plain": [
       "0.7756138865368332"
      ]
     },
     "execution_count": 44,
     "metadata": {},
     "output_type": "execute_result"
    }
   ],
   "source": [
    "f1_test = f1_score(y_test, model_logreg.predict(X_test))\n",
    "f1_test"
   ]
  },
  {
   "cell_type": "markdown",
   "metadata": {},
   "source": [
    "Вопреки опасениям, модель отвечает заданному требованию метрики F1 в 0,776. Но результат оказался выше кроссвалидационного, значит предположительно имеет место некоторое переобучение.  \n",
    "Оценю на метрику ROC-AUC:"
   ]
  },
  {
   "cell_type": "code",
   "execution_count": 46,
   "metadata": {},
   "outputs": [
    {
     "data": {
      "image/png": "[encoded data removed]",
      "text/plain": [
       "<Figure size 800x800 with 1 Axes>"
      ]
     },
     "metadata": {},
     "output_type": "display_data"
    }
   ],
   "source": [
    "plt.figure(figsize=[8,8])\n",
    "\n",
    "probs_test = model_logreg.predict_proba(X_test)\n",
    "probs_one_test = probs_test[:, 1]\n",
    "fpr, tpr, thr = roc_curve(y_test, probs_one_test)\n",
    "plt.plot([0, 1], [0, 1], linestyle='--', label='Случайная модель')\n",
    "plt.plot(fpr, tpr, label='Логистическая регрессия')\n",
    "\n",
    "plt.xlim([0,1])\n",
    "plt.ylim([0,1])\n",
    "plt.grid()\n",
    "\n",
    "plt.xlabel(\"False Positive Rate\")\n",
    "plt.ylabel(\"True Positive Rate\")\n",
    "plt.legend(loc='lower right')\n",
    "\n",
    "plt.show()"
   ]
  },
  {
   "cell_type": "code",
   "execution_count": 47,
   "metadata": {},
   "outputs": [
    {
     "data": {
      "text/plain": [
       "0.972225393295991"
      ]
     },
     "execution_count": 47,
     "metadata": {},
     "output_type": "execute_result"
    }
   ],
   "source": [
    "best_roc_auc = roc_auc_score(y_test, probs_one_test)\n",
    "best_roc_auc"
   ]
  },
  {
   "cell_type": "markdown",
   "metadata": {},
   "source": [
    "ROC-AUC 0,97 и график впечатляют, но откровенно говоря, я им не сильно верю, метрика F1 0,76-0,77 мне больше говорит о возможностях обученной модели, т.к. комбинирует точность и полноту. Для определения токсичности текста точность 0,75 это, на мой взгляд, весьма невысокий показатель, требуется более глубокая проработка задачи на более гибких моделях и на более мощном железе."
   ]
  },
  {
   "cell_type": "markdown",
   "metadata": {},
   "source": [
    "## Выводы"
   ]
  },
  {
   "cell_type": "markdown",
   "metadata": {},
   "source": [
    "Модели на основе CatBoost и LGBM могут быть обучены на очень высокий уровень распознавания текста, однако для этого требуются хорошие вычислительные мощности, тогда как \"привычная\" логистическая регрессия даёт приемлемый результат для оперативных задач на обычном ноутбуке. Но возможно ли вытянуть её на большие метрики? Это вопрос более подробного исследования."
   ]
  }
 ],
 "metadata": {
  "ExecuteTimeLog": [
   {
    "duration": 8,
    "start_time": "2023-03-12T19:39:25.243Z"
   },
   {
    "duration": 4,
    "start_time": "2023-03-12T19:52:25.371Z"
   },
   {
    "duration": 932,
    "start_time": "2023-03-12T19:52:25.378Z"
   },
   {
    "duration": 1,
    "start_time": "2023-03-12T19:52:26.314Z"
   },
   {
    "duration": 0,
    "start_time": "2023-03-12T19:52:26.316Z"
   },
   {
    "duration": 0,
    "start_time": "2023-03-12T19:52:26.321Z"
   },
   {
    "duration": 0,
    "start_time": "2023-03-12T19:52:26.322Z"
   },
   {
    "duration": 0,
    "start_time": "2023-03-12T19:52:26.323Z"
   },
   {
    "duration": 0,
    "start_time": "2023-03-12T19:52:26.324Z"
   },
   {
    "duration": 0,
    "start_time": "2023-03-12T19:52:26.326Z"
   },
   {
    "duration": 0,
    "start_time": "2023-03-12T19:52:26.327Z"
   },
   {
    "duration": 0,
    "start_time": "2023-03-12T19:52:26.328Z"
   },
   {
    "duration": 0,
    "start_time": "2023-03-12T19:52:26.355Z"
   },
   {
    "duration": 0,
    "start_time": "2023-03-12T19:52:26.356Z"
   },
   {
    "duration": 0,
    "start_time": "2023-03-12T19:52:26.357Z"
   },
   {
    "duration": 0,
    "start_time": "2023-03-12T19:52:26.358Z"
   },
   {
    "duration": 0,
    "start_time": "2023-03-12T19:52:26.359Z"
   },
   {
    "duration": 0,
    "start_time": "2023-03-12T19:52:26.360Z"
   },
   {
    "duration": 0,
    "start_time": "2023-03-12T19:52:26.361Z"
   },
   {
    "duration": 0,
    "start_time": "2023-03-12T19:52:26.362Z"
   },
   {
    "duration": 0,
    "start_time": "2023-03-12T19:52:26.363Z"
   },
   {
    "duration": 0,
    "start_time": "2023-03-12T19:52:26.364Z"
   },
   {
    "duration": 0,
    "start_time": "2023-03-12T19:52:26.365Z"
   },
   {
    "duration": 0,
    "start_time": "2023-03-12T19:52:26.367Z"
   },
   {
    "duration": 0,
    "start_time": "2023-03-12T19:52:26.368Z"
   },
   {
    "duration": 0,
    "start_time": "2023-03-12T19:52:26.370Z"
   },
   {
    "duration": 0,
    "start_time": "2023-03-12T19:52:26.371Z"
   },
   {
    "duration": 0,
    "start_time": "2023-03-12T19:52:26.373Z"
   },
   {
    "duration": 0,
    "start_time": "2023-03-12T19:52:26.374Z"
   },
   {
    "duration": 0,
    "start_time": "2023-03-12T19:52:26.376Z"
   },
   {
    "duration": 0,
    "start_time": "2023-03-12T19:52:26.377Z"
   },
   {
    "duration": 0,
    "start_time": "2023-03-12T19:52:26.379Z"
   },
   {
    "duration": 0,
    "start_time": "2023-03-12T19:52:26.381Z"
   },
   {
    "duration": 0,
    "start_time": "2023-03-12T19:52:26.382Z"
   },
   {
    "duration": 0,
    "start_time": "2023-03-12T19:52:26.383Z"
   },
   {
    "duration": 0,
    "start_time": "2023-03-12T19:52:26.385Z"
   },
   {
    "duration": 0,
    "start_time": "2023-03-12T19:52:26.386Z"
   },
   {
    "duration": 0,
    "start_time": "2023-03-12T19:52:26.387Z"
   },
   {
    "duration": 0,
    "start_time": "2023-03-12T19:52:26.389Z"
   },
   {
    "duration": 0,
    "start_time": "2023-03-12T19:52:26.390Z"
   },
   {
    "duration": 0,
    "start_time": "2023-03-12T19:52:26.392Z"
   },
   {
    "duration": 0,
    "start_time": "2023-03-12T19:52:26.393Z"
   },
   {
    "duration": 1,
    "start_time": "2023-03-12T19:52:26.456Z"
   },
   {
    "duration": 0,
    "start_time": "2023-03-12T19:52:26.458Z"
   },
   {
    "duration": 0,
    "start_time": "2023-03-12T19:52:26.459Z"
   },
   {
    "duration": 0,
    "start_time": "2023-03-12T19:52:26.460Z"
   },
   {
    "duration": 0,
    "start_time": "2023-03-12T19:52:26.461Z"
   },
   {
    "duration": 0,
    "start_time": "2023-03-12T19:52:26.463Z"
   },
   {
    "duration": 0,
    "start_time": "2023-03-12T19:52:26.465Z"
   },
   {
    "duration": 0,
    "start_time": "2023-03-12T19:52:26.466Z"
   },
   {
    "duration": 0,
    "start_time": "2023-03-12T19:52:26.467Z"
   },
   {
    "duration": 0,
    "start_time": "2023-03-12T19:52:26.468Z"
   },
   {
    "duration": 4,
    "start_time": "2023-03-12T19:52:46.247Z"
   },
   {
    "duration": 5388,
    "start_time": "2023-03-12T19:52:46.254Z"
   },
   {
    "duration": 415,
    "start_time": "2023-03-12T19:52:51.644Z"
   },
   {
    "duration": 0,
    "start_time": "2023-03-12T19:52:52.064Z"
   },
   {
    "duration": 0,
    "start_time": "2023-03-12T19:52:52.065Z"
   },
   {
    "duration": 0,
    "start_time": "2023-03-12T19:52:52.066Z"
   },
   {
    "duration": 0,
    "start_time": "2023-03-12T19:52:52.067Z"
   },
   {
    "duration": 0,
    "start_time": "2023-03-12T19:52:52.068Z"
   },
   {
    "duration": 0,
    "start_time": "2023-03-12T19:52:52.069Z"
   },
   {
    "duration": 0,
    "start_time": "2023-03-12T19:52:52.070Z"
   },
   {
    "duration": 0,
    "start_time": "2023-03-12T19:52:52.071Z"
   },
   {
    "duration": 0,
    "start_time": "2023-03-12T19:52:52.072Z"
   },
   {
    "duration": 0,
    "start_time": "2023-03-12T19:52:52.073Z"
   },
   {
    "duration": 0,
    "start_time": "2023-03-12T19:52:52.074Z"
   },
   {
    "duration": 0,
    "start_time": "2023-03-12T19:52:52.077Z"
   },
   {
    "duration": 0,
    "start_time": "2023-03-12T19:52:52.078Z"
   },
   {
    "duration": 0,
    "start_time": "2023-03-12T19:52:52.080Z"
   },
   {
    "duration": 0,
    "start_time": "2023-03-12T19:52:52.081Z"
   },
   {
    "duration": 0,
    "start_time": "2023-03-12T19:52:52.083Z"
   },
   {
    "duration": 0,
    "start_time": "2023-03-12T19:52:52.084Z"
   },
   {
    "duration": 0,
    "start_time": "2023-03-12T19:52:52.086Z"
   },
   {
    "duration": 0,
    "start_time": "2023-03-12T19:52:52.087Z"
   },
   {
    "duration": 0,
    "start_time": "2023-03-12T19:52:52.088Z"
   },
   {
    "duration": 0,
    "start_time": "2023-03-12T19:52:52.089Z"
   },
   {
    "duration": 0,
    "start_time": "2023-03-12T19:52:52.090Z"
   },
   {
    "duration": 0,
    "start_time": "2023-03-12T19:52:52.092Z"
   },
   {
    "duration": 0,
    "start_time": "2023-03-12T19:52:52.095Z"
   },
   {
    "duration": 0,
    "start_time": "2023-03-12T19:52:52.096Z"
   },
   {
    "duration": 0,
    "start_time": "2023-03-12T19:52:52.097Z"
   },
   {
    "duration": 0,
    "start_time": "2023-03-12T19:52:52.100Z"
   },
   {
    "duration": 0,
    "start_time": "2023-03-12T19:52:52.101Z"
   },
   {
    "duration": 0,
    "start_time": "2023-03-12T19:52:52.103Z"
   },
   {
    "duration": 0,
    "start_time": "2023-03-12T19:52:52.104Z"
   },
   {
    "duration": 0,
    "start_time": "2023-03-12T19:52:52.105Z"
   },
   {
    "duration": 0,
    "start_time": "2023-03-12T19:52:52.155Z"
   },
   {
    "duration": 0,
    "start_time": "2023-03-12T19:52:52.157Z"
   },
   {
    "duration": 0,
    "start_time": "2023-03-12T19:52:52.158Z"
   },
   {
    "duration": 0,
    "start_time": "2023-03-12T19:52:52.159Z"
   },
   {
    "duration": 0,
    "start_time": "2023-03-12T19:52:52.160Z"
   },
   {
    "duration": 0,
    "start_time": "2023-03-12T19:52:52.162Z"
   },
   {
    "duration": 0,
    "start_time": "2023-03-12T19:52:52.163Z"
   },
   {
    "duration": 0,
    "start_time": "2023-03-12T19:52:52.164Z"
   },
   {
    "duration": 0,
    "start_time": "2023-03-12T19:52:52.165Z"
   },
   {
    "duration": 0,
    "start_time": "2023-03-12T19:52:52.166Z"
   },
   {
    "duration": 0,
    "start_time": "2023-03-12T19:52:52.168Z"
   },
   {
    "duration": 0,
    "start_time": "2023-03-12T19:52:52.169Z"
   },
   {
    "duration": 0,
    "start_time": "2023-03-12T19:52:52.170Z"
   },
   {
    "duration": 0,
    "start_time": "2023-03-12T19:52:52.171Z"
   },
   {
    "duration": 0,
    "start_time": "2023-03-12T19:52:52.172Z"
   },
   {
    "duration": 0,
    "start_time": "2023-03-12T19:52:52.173Z"
   },
   {
    "duration": 0,
    "start_time": "2023-03-12T19:52:52.174Z"
   },
   {
    "duration": 6,
    "start_time": "2023-03-12T19:53:17.434Z"
   },
   {
    "duration": 6525,
    "start_time": "2023-03-12T19:53:17.443Z"
   },
   {
    "duration": 6,
    "start_time": "2023-03-12T19:53:23.970Z"
   },
   {
    "duration": 4103,
    "start_time": "2023-03-12T19:53:23.979Z"
   },
   {
    "duration": 18,
    "start_time": "2023-03-12T19:53:28.083Z"
   },
   {
    "duration": 16,
    "start_time": "2023-03-12T19:53:28.103Z"
   },
   {
    "duration": 10,
    "start_time": "2023-03-12T19:53:28.122Z"
   },
   {
    "duration": 43,
    "start_time": "2023-03-12T19:53:28.156Z"
   },
   {
    "duration": 4,
    "start_time": "2023-03-12T19:53:28.203Z"
   },
   {
    "duration": 48,
    "start_time": "2023-03-12T19:53:28.209Z"
   },
   {
    "duration": 7,
    "start_time": "2023-03-12T19:53:28.259Z"
   },
   {
    "duration": 274,
    "start_time": "2023-03-12T19:53:28.267Z"
   },
   {
    "duration": 24,
    "start_time": "2023-03-12T19:53:28.542Z"
   },
   {
    "duration": 12,
    "start_time": "2023-03-12T19:53:28.568Z"
   },
   {
    "duration": 28,
    "start_time": "2023-03-12T19:53:28.582Z"
   },
   {
    "duration": 43,
    "start_time": "2023-03-12T19:53:28.612Z"
   },
   {
    "duration": 464,
    "start_time": "2023-03-12T19:53:28.657Z"
   },
   {
    "duration": 5,
    "start_time": "2023-03-12T19:53:29.123Z"
   },
   {
    "duration": 754,
    "start_time": "2023-03-12T19:53:29.130Z"
   },
   {
    "duration": 0,
    "start_time": "2023-03-12T19:53:29.887Z"
   },
   {
    "duration": 0,
    "start_time": "2023-03-12T19:53:29.888Z"
   },
   {
    "duration": 0,
    "start_time": "2023-03-12T19:53:29.889Z"
   },
   {
    "duration": 0,
    "start_time": "2023-03-12T19:53:29.890Z"
   },
   {
    "duration": 0,
    "start_time": "2023-03-12T19:53:29.891Z"
   },
   {
    "duration": 0,
    "start_time": "2023-03-12T19:53:29.892Z"
   },
   {
    "duration": 0,
    "start_time": "2023-03-12T19:53:29.893Z"
   },
   {
    "duration": 0,
    "start_time": "2023-03-12T19:53:29.894Z"
   },
   {
    "duration": 0,
    "start_time": "2023-03-12T19:53:29.896Z"
   },
   {
    "duration": 0,
    "start_time": "2023-03-12T19:53:29.896Z"
   },
   {
    "duration": 0,
    "start_time": "2023-03-12T19:53:29.898Z"
   },
   {
    "duration": 0,
    "start_time": "2023-03-12T19:53:29.899Z"
   },
   {
    "duration": 0,
    "start_time": "2023-03-12T19:53:29.900Z"
   },
   {
    "duration": 0,
    "start_time": "2023-03-12T19:53:29.901Z"
   },
   {
    "duration": 0,
    "start_time": "2023-03-12T19:53:29.902Z"
   },
   {
    "duration": 0,
    "start_time": "2023-03-12T19:53:29.904Z"
   },
   {
    "duration": 0,
    "start_time": "2023-03-12T19:53:29.905Z"
   },
   {
    "duration": 0,
    "start_time": "2023-03-12T19:53:29.906Z"
   },
   {
    "duration": 0,
    "start_time": "2023-03-12T19:53:29.907Z"
   },
   {
    "duration": 0,
    "start_time": "2023-03-12T19:53:29.909Z"
   },
   {
    "duration": 0,
    "start_time": "2023-03-12T19:53:29.910Z"
   },
   {
    "duration": 0,
    "start_time": "2023-03-12T19:53:29.911Z"
   },
   {
    "duration": 0,
    "start_time": "2023-03-12T19:53:29.914Z"
   },
   {
    "duration": 0,
    "start_time": "2023-03-12T19:53:29.915Z"
   },
   {
    "duration": 0,
    "start_time": "2023-03-12T19:53:29.916Z"
   },
   {
    "duration": 0,
    "start_time": "2023-03-12T19:53:29.918Z"
   },
   {
    "duration": 0,
    "start_time": "2023-03-12T19:53:29.920Z"
   },
   {
    "duration": 0,
    "start_time": "2023-03-12T19:53:29.921Z"
   },
   {
    "duration": 0,
    "start_time": "2023-03-12T19:53:29.955Z"
   },
   {
    "duration": 0,
    "start_time": "2023-03-12T19:53:29.957Z"
   },
   {
    "duration": 1,
    "start_time": "2023-03-12T19:53:29.958Z"
   },
   {
    "duration": 0,
    "start_time": "2023-03-12T19:53:29.960Z"
   },
   {
    "duration": 4,
    "start_time": "2023-03-12T19:58:48.388Z"
   },
   {
    "duration": 5171,
    "start_time": "2023-03-12T19:58:48.394Z"
   },
   {
    "duration": 9,
    "start_time": "2023-03-12T19:58:53.572Z"
   },
   {
    "duration": 1229,
    "start_time": "2023-03-12T19:58:53.583Z"
   },
   {
    "duration": 18,
    "start_time": "2023-03-12T19:58:54.815Z"
   },
   {
    "duration": 34,
    "start_time": "2023-03-12T19:58:54.835Z"
   },
   {
    "duration": 10,
    "start_time": "2023-03-12T19:58:54.871Z"
   },
   {
    "duration": 30,
    "start_time": "2023-03-12T19:58:54.883Z"
   },
   {
    "duration": 3,
    "start_time": "2023-03-12T19:58:54.915Z"
   },
   {
    "duration": 60,
    "start_time": "2023-03-12T19:58:54.919Z"
   },
   {
    "duration": 10,
    "start_time": "2023-03-12T19:58:54.981Z"
   },
   {
    "duration": 289,
    "start_time": "2023-03-12T19:58:54.993Z"
   },
   {
    "duration": 24,
    "start_time": "2023-03-12T19:58:55.283Z"
   },
   {
    "duration": 9,
    "start_time": "2023-03-12T19:58:55.312Z"
   },
   {
    "duration": 56,
    "start_time": "2023-03-12T19:58:55.323Z"
   },
   {
    "duration": 9,
    "start_time": "2023-03-12T19:58:55.381Z"
   },
   {
    "duration": 520,
    "start_time": "2023-03-12T19:58:55.393Z"
   },
   {
    "duration": 5,
    "start_time": "2023-03-12T19:58:55.914Z"
   },
   {
    "duration": 5,
    "start_time": "2023-03-12T19:58:55.921Z"
   },
   {
    "duration": 598,
    "start_time": "2023-03-12T19:58:55.928Z"
   },
   {
    "duration": 0,
    "start_time": "2023-03-12T19:58:56.529Z"
   },
   {
    "duration": 0,
    "start_time": "2023-03-12T19:58:56.530Z"
   },
   {
    "duration": 0,
    "start_time": "2023-03-12T19:58:56.531Z"
   },
   {
    "duration": 0,
    "start_time": "2023-03-12T19:58:56.532Z"
   },
   {
    "duration": 0,
    "start_time": "2023-03-12T19:58:56.534Z"
   },
   {
    "duration": 0,
    "start_time": "2023-03-12T19:58:56.535Z"
   },
   {
    "duration": 0,
    "start_time": "2023-03-12T19:58:56.537Z"
   },
   {
    "duration": 0,
    "start_time": "2023-03-12T19:58:56.538Z"
   },
   {
    "duration": 0,
    "start_time": "2023-03-12T19:58:56.539Z"
   },
   {
    "duration": 0,
    "start_time": "2023-03-12T19:58:56.540Z"
   },
   {
    "duration": 0,
    "start_time": "2023-03-12T19:58:56.542Z"
   },
   {
    "duration": 0,
    "start_time": "2023-03-12T19:58:56.543Z"
   },
   {
    "duration": 0,
    "start_time": "2023-03-12T19:58:56.545Z"
   },
   {
    "duration": 0,
    "start_time": "2023-03-12T19:58:56.546Z"
   },
   {
    "duration": 0,
    "start_time": "2023-03-12T19:58:56.547Z"
   },
   {
    "duration": 0,
    "start_time": "2023-03-12T19:58:56.548Z"
   },
   {
    "duration": 0,
    "start_time": "2023-03-12T19:58:56.550Z"
   },
   {
    "duration": 0,
    "start_time": "2023-03-12T19:58:56.552Z"
   },
   {
    "duration": 0,
    "start_time": "2023-03-12T19:58:56.553Z"
   },
   {
    "duration": 0,
    "start_time": "2023-03-12T19:58:56.555Z"
   },
   {
    "duration": 0,
    "start_time": "2023-03-12T19:58:56.556Z"
   },
   {
    "duration": 0,
    "start_time": "2023-03-12T19:58:56.557Z"
   },
   {
    "duration": 0,
    "start_time": "2023-03-12T19:58:56.559Z"
   },
   {
    "duration": 0,
    "start_time": "2023-03-12T19:58:56.560Z"
   },
   {
    "duration": 0,
    "start_time": "2023-03-12T19:58:56.562Z"
   },
   {
    "duration": 0,
    "start_time": "2023-03-12T19:58:56.563Z"
   },
   {
    "duration": 0,
    "start_time": "2023-03-12T19:58:56.564Z"
   },
   {
    "duration": 0,
    "start_time": "2023-03-12T19:58:56.565Z"
   },
   {
    "duration": 0,
    "start_time": "2023-03-12T19:58:56.566Z"
   },
   {
    "duration": 0,
    "start_time": "2023-03-12T19:58:56.568Z"
   },
   {
    "duration": 0,
    "start_time": "2023-03-12T19:58:56.570Z"
   },
   {
    "duration": 0,
    "start_time": "2023-03-12T19:58:56.571Z"
   },
   {
    "duration": 4,
    "start_time": "2023-03-12T19:59:22.794Z"
   },
   {
    "duration": 5783,
    "start_time": "2023-03-12T19:59:22.801Z"
   },
   {
    "duration": 6,
    "start_time": "2023-03-12T19:59:28.586Z"
   },
   {
    "duration": 862,
    "start_time": "2023-03-12T19:59:28.594Z"
   },
   {
    "duration": 15,
    "start_time": "2023-03-12T19:59:29.458Z"
   },
   {
    "duration": 11,
    "start_time": "2023-03-12T19:59:29.475Z"
   },
   {
    "duration": 9,
    "start_time": "2023-03-12T19:59:29.488Z"
   },
   {
    "duration": 63,
    "start_time": "2023-03-12T19:59:29.499Z"
   },
   {
    "duration": 2,
    "start_time": "2023-03-12T19:59:29.564Z"
   },
   {
    "duration": 23,
    "start_time": "2023-03-12T19:59:29.568Z"
   },
   {
    "duration": 6,
    "start_time": "2023-03-12T19:59:29.593Z"
   },
   {
    "duration": 301,
    "start_time": "2023-03-12T19:59:29.601Z"
   },
   {
    "duration": 24,
    "start_time": "2023-03-12T19:59:29.904Z"
   },
   {
    "duration": 26,
    "start_time": "2023-03-12T19:59:29.931Z"
   },
   {
    "duration": 25,
    "start_time": "2023-03-12T19:59:29.958Z"
   },
   {
    "duration": 9,
    "start_time": "2023-03-12T19:59:29.985Z"
   },
   {
    "duration": 485,
    "start_time": "2023-03-12T19:59:29.996Z"
   },
   {
    "duration": 10,
    "start_time": "2023-03-12T19:59:30.483Z"
   },
   {
    "duration": 17,
    "start_time": "2023-03-12T19:59:30.495Z"
   },
   {
    "duration": 66,
    "start_time": "2023-03-12T19:59:30.513Z"
   },
   {
    "duration": 631,
    "start_time": "2023-03-12T19:59:30.581Z"
   },
   {
    "duration": 0,
    "start_time": "2023-03-12T19:59:31.214Z"
   },
   {
    "duration": 0,
    "start_time": "2023-03-12T19:59:31.215Z"
   },
   {
    "duration": 0,
    "start_time": "2023-03-12T19:59:31.216Z"
   },
   {
    "duration": 0,
    "start_time": "2023-03-12T19:59:31.218Z"
   },
   {
    "duration": 0,
    "start_time": "2023-03-12T19:59:31.219Z"
   },
   {
    "duration": 0,
    "start_time": "2023-03-12T19:59:31.220Z"
   },
   {
    "duration": 0,
    "start_time": "2023-03-12T19:59:31.221Z"
   },
   {
    "duration": 0,
    "start_time": "2023-03-12T19:59:31.222Z"
   },
   {
    "duration": 0,
    "start_time": "2023-03-12T19:59:31.223Z"
   },
   {
    "duration": 0,
    "start_time": "2023-03-12T19:59:31.224Z"
   },
   {
    "duration": 0,
    "start_time": "2023-03-12T19:59:31.225Z"
   },
   {
    "duration": 0,
    "start_time": "2023-03-12T19:59:31.226Z"
   },
   {
    "duration": 0,
    "start_time": "2023-03-12T19:59:31.226Z"
   },
   {
    "duration": 0,
    "start_time": "2023-03-12T19:59:31.227Z"
   },
   {
    "duration": 0,
    "start_time": "2023-03-12T19:59:31.228Z"
   },
   {
    "duration": 0,
    "start_time": "2023-03-12T19:59:31.229Z"
   },
   {
    "duration": 0,
    "start_time": "2023-03-12T19:59:31.230Z"
   },
   {
    "duration": 0,
    "start_time": "2023-03-12T19:59:31.231Z"
   },
   {
    "duration": 0,
    "start_time": "2023-03-12T19:59:31.232Z"
   },
   {
    "duration": 0,
    "start_time": "2023-03-12T19:59:31.233Z"
   },
   {
    "duration": 0,
    "start_time": "2023-03-12T19:59:31.234Z"
   },
   {
    "duration": 0,
    "start_time": "2023-03-12T19:59:31.235Z"
   },
   {
    "duration": 0,
    "start_time": "2023-03-12T19:59:31.236Z"
   },
   {
    "duration": 0,
    "start_time": "2023-03-12T19:59:31.237Z"
   },
   {
    "duration": 0,
    "start_time": "2023-03-12T19:59:31.238Z"
   },
   {
    "duration": 0,
    "start_time": "2023-03-12T19:59:31.239Z"
   },
   {
    "duration": 0,
    "start_time": "2023-03-12T19:59:31.240Z"
   },
   {
    "duration": 0,
    "start_time": "2023-03-12T19:59:31.241Z"
   },
   {
    "duration": 0,
    "start_time": "2023-03-12T19:59:31.241Z"
   },
   {
    "duration": 0,
    "start_time": "2023-03-12T19:59:31.243Z"
   },
   {
    "duration": 0,
    "start_time": "2023-03-12T19:59:31.244Z"
   },
   {
    "duration": 5,
    "start_time": "2023-03-12T20:04:45.001Z"
   },
   {
    "duration": 6227,
    "start_time": "2023-03-12T20:04:45.009Z"
   },
   {
    "duration": 7,
    "start_time": "2023-03-12T20:04:51.238Z"
   },
   {
    "duration": 973,
    "start_time": "2023-03-12T20:04:51.246Z"
   },
   {
    "duration": 16,
    "start_time": "2023-03-12T20:04:52.222Z"
   },
   {
    "duration": 24,
    "start_time": "2023-03-12T20:04:52.240Z"
   },
   {
    "duration": 8,
    "start_time": "2023-03-12T20:04:52.266Z"
   },
   {
    "duration": 38,
    "start_time": "2023-03-12T20:04:52.276Z"
   },
   {
    "duration": 3,
    "start_time": "2023-03-12T20:04:52.315Z"
   },
   {
    "duration": 52,
    "start_time": "2023-03-12T20:04:52.319Z"
   },
   {
    "duration": 7,
    "start_time": "2023-03-12T20:04:52.373Z"
   },
   {
    "duration": 288,
    "start_time": "2023-03-12T20:04:52.381Z"
   },
   {
    "duration": 26,
    "start_time": "2023-03-12T20:04:52.671Z"
   },
   {
    "duration": 10,
    "start_time": "2023-03-12T20:04:52.701Z"
   },
   {
    "duration": 58,
    "start_time": "2023-03-12T20:04:52.713Z"
   },
   {
    "duration": 18,
    "start_time": "2023-03-12T20:04:52.773Z"
   },
   {
    "duration": 570,
    "start_time": "2023-03-12T20:04:52.792Z"
   },
   {
    "duration": 4,
    "start_time": "2023-03-12T20:04:53.364Z"
   },
   {
    "duration": 193,
    "start_time": "2023-03-12T20:04:53.370Z"
   },
   {
    "duration": 4,
    "start_time": "2023-03-12T20:04:53.565Z"
   },
   {
    "duration": 5,
    "start_time": "2023-03-12T20:18:44.903Z"
   },
   {
    "duration": 5259,
    "start_time": "2023-03-12T20:18:44.910Z"
   },
   {
    "duration": 8,
    "start_time": "2023-03-12T20:18:50.171Z"
   },
   {
    "duration": 1083,
    "start_time": "2023-03-12T20:18:50.181Z"
   },
   {
    "duration": 20,
    "start_time": "2023-03-12T20:18:51.267Z"
   },
   {
    "duration": 19,
    "start_time": "2023-03-12T20:18:51.292Z"
   },
   {
    "duration": 12,
    "start_time": "2023-03-12T20:18:51.313Z"
   },
   {
    "duration": 69,
    "start_time": "2023-03-12T20:18:51.326Z"
   },
   {
    "duration": 3,
    "start_time": "2023-03-12T20:18:51.397Z"
   },
   {
    "duration": 32,
    "start_time": "2023-03-12T20:18:51.402Z"
   },
   {
    "duration": 25,
    "start_time": "2023-03-12T20:18:51.436Z"
   },
   {
    "duration": 316,
    "start_time": "2023-03-12T20:18:51.463Z"
   },
   {
    "duration": 28,
    "start_time": "2023-03-12T20:18:51.781Z"
   },
   {
    "duration": 12,
    "start_time": "2023-03-12T20:18:51.814Z"
   },
   {
    "duration": 34,
    "start_time": "2023-03-12T20:18:51.855Z"
   },
   {
    "duration": 12,
    "start_time": "2023-03-12T20:18:51.892Z"
   },
   {
    "duration": 582,
    "start_time": "2023-03-12T20:18:51.906Z"
   },
   {
    "duration": 5,
    "start_time": "2023-03-12T20:18:52.490Z"
   },
   {
    "duration": 6,
    "start_time": "2023-03-12T20:18:52.497Z"
   },
   {
    "duration": 1056,
    "start_time": "2023-03-12T20:18:52.504Z"
   },
   {
    "duration": 0,
    "start_time": "2023-03-12T20:18:53.563Z"
   },
   {
    "duration": 0,
    "start_time": "2023-03-12T20:18:53.565Z"
   },
   {
    "duration": 1,
    "start_time": "2023-03-12T20:18:53.566Z"
   },
   {
    "duration": 0,
    "start_time": "2023-03-12T20:18:53.568Z"
   },
   {
    "duration": 0,
    "start_time": "2023-03-12T20:18:53.569Z"
   },
   {
    "duration": 0,
    "start_time": "2023-03-12T20:18:53.571Z"
   },
   {
    "duration": 1,
    "start_time": "2023-03-12T20:18:53.572Z"
   },
   {
    "duration": 0,
    "start_time": "2023-03-12T20:18:53.574Z"
   },
   {
    "duration": 0,
    "start_time": "2023-03-12T20:18:53.575Z"
   },
   {
    "duration": 0,
    "start_time": "2023-03-12T20:18:53.577Z"
   },
   {
    "duration": 0,
    "start_time": "2023-03-12T20:18:53.578Z"
   },
   {
    "duration": 0,
    "start_time": "2023-03-12T20:18:53.580Z"
   },
   {
    "duration": 0,
    "start_time": "2023-03-12T20:18:53.581Z"
   },
   {
    "duration": 0,
    "start_time": "2023-03-12T20:18:53.582Z"
   },
   {
    "duration": 0,
    "start_time": "2023-03-12T20:18:53.584Z"
   },
   {
    "duration": 0,
    "start_time": "2023-03-12T20:18:53.585Z"
   },
   {
    "duration": 0,
    "start_time": "2023-03-12T20:18:53.588Z"
   },
   {
    "duration": 0,
    "start_time": "2023-03-12T20:18:53.589Z"
   },
   {
    "duration": 0,
    "start_time": "2023-03-12T20:18:53.591Z"
   },
   {
    "duration": 0,
    "start_time": "2023-03-12T20:18:53.592Z"
   },
   {
    "duration": 0,
    "start_time": "2023-03-12T20:18:53.593Z"
   },
   {
    "duration": 0,
    "start_time": "2023-03-12T20:18:53.595Z"
   },
   {
    "duration": 0,
    "start_time": "2023-03-12T20:18:53.596Z"
   },
   {
    "duration": 0,
    "start_time": "2023-03-12T20:18:53.597Z"
   },
   {
    "duration": 0,
    "start_time": "2023-03-12T20:18:53.599Z"
   },
   {
    "duration": 0,
    "start_time": "2023-03-12T20:18:53.600Z"
   },
   {
    "duration": 0,
    "start_time": "2023-03-12T20:18:53.601Z"
   },
   {
    "duration": 0,
    "start_time": "2023-03-12T20:18:53.603Z"
   },
   {
    "duration": 0,
    "start_time": "2023-03-12T20:18:53.657Z"
   },
   {
    "duration": 0,
    "start_time": "2023-03-12T20:18:53.658Z"
   },
   {
    "duration": 0,
    "start_time": "2023-03-12T20:18:53.659Z"
   },
   {
    "duration": 0,
    "start_time": "2023-03-12T20:18:53.661Z"
   },
   {
    "duration": 4,
    "start_time": "2023-03-12T20:19:40.577Z"
   },
   {
    "duration": 5124,
    "start_time": "2023-03-12T20:19:40.612Z"
   },
   {
    "duration": 5,
    "start_time": "2023-03-12T20:19:45.741Z"
   },
   {
    "duration": 997,
    "start_time": "2023-03-12T20:19:45.748Z"
   },
   {
    "duration": 17,
    "start_time": "2023-03-12T20:19:46.747Z"
   },
   {
    "duration": 18,
    "start_time": "2023-03-12T20:19:46.766Z"
   },
   {
    "duration": 11,
    "start_time": "2023-03-12T20:19:46.788Z"
   },
   {
    "duration": 63,
    "start_time": "2023-03-12T20:19:46.802Z"
   },
   {
    "duration": 3,
    "start_time": "2023-03-12T20:19:46.867Z"
   },
   {
    "duration": 34,
    "start_time": "2023-03-12T20:19:46.872Z"
   },
   {
    "duration": 7,
    "start_time": "2023-03-12T20:19:46.909Z"
   },
   {
    "duration": 307,
    "start_time": "2023-03-12T20:19:46.956Z"
   },
   {
    "duration": 28,
    "start_time": "2023-03-12T20:19:47.265Z"
   },
   {
    "duration": 9,
    "start_time": "2023-03-12T20:19:47.295Z"
   },
   {
    "duration": 53,
    "start_time": "2023-03-12T20:19:47.307Z"
   },
   {
    "duration": 11,
    "start_time": "2023-03-12T20:19:47.361Z"
   },
   {
    "duration": 586,
    "start_time": "2023-03-12T20:19:47.374Z"
   },
   {
    "duration": 6,
    "start_time": "2023-03-12T20:19:47.962Z"
   },
   {
    "duration": 6,
    "start_time": "2023-03-12T20:19:47.969Z"
   },
   {
    "duration": 137,
    "start_time": "2023-03-12T20:19:47.977Z"
   },
   {
    "duration": 4,
    "start_time": "2023-03-12T20:21:10.125Z"
   },
   {
    "duration": 6269,
    "start_time": "2023-03-12T20:21:10.177Z"
   },
   {
    "duration": 9,
    "start_time": "2023-03-12T20:21:16.449Z"
   },
   {
    "duration": 1085,
    "start_time": "2023-03-12T20:21:16.460Z"
   },
   {
    "duration": 22,
    "start_time": "2023-03-12T20:21:17.547Z"
   },
   {
    "duration": 17,
    "start_time": "2023-03-12T20:21:17.572Z"
   },
   {
    "duration": 13,
    "start_time": "2023-03-12T20:21:17.590Z"
   },
   {
    "duration": 72,
    "start_time": "2023-03-12T20:21:17.605Z"
   },
   {
    "duration": 5,
    "start_time": "2023-03-12T20:21:17.679Z"
   },
   {
    "duration": 50,
    "start_time": "2023-03-12T20:21:17.686Z"
   },
   {
    "duration": 20,
    "start_time": "2023-03-12T20:21:17.738Z"
   },
   {
    "duration": 283,
    "start_time": "2023-03-12T20:21:17.760Z"
   },
   {
    "duration": 27,
    "start_time": "2023-03-12T20:21:18.045Z"
   },
   {
    "duration": 10,
    "start_time": "2023-03-12T20:21:18.073Z"
   },
   {
    "duration": 39,
    "start_time": "2023-03-12T20:21:18.087Z"
   },
   {
    "duration": 11,
    "start_time": "2023-03-12T20:21:18.156Z"
   },
   {
    "duration": 520,
    "start_time": "2023-03-12T20:21:18.169Z"
   },
   {
    "duration": 5,
    "start_time": "2023-03-12T20:21:18.691Z"
   },
   {
    "duration": 8,
    "start_time": "2023-03-12T20:21:18.698Z"
   },
   {
    "duration": 257,
    "start_time": "2023-03-12T20:21:18.708Z"
   },
   {
    "duration": 33246,
    "start_time": "2023-03-12T20:21:18.967Z"
   },
   {
    "duration": 0,
    "start_time": "2023-03-12T20:21:52.215Z"
   },
   {
    "duration": 0,
    "start_time": "2023-03-12T20:21:52.216Z"
   },
   {
    "duration": 0,
    "start_time": "2023-03-12T20:21:52.217Z"
   },
   {
    "duration": 0,
    "start_time": "2023-03-12T20:21:52.219Z"
   },
   {
    "duration": 0,
    "start_time": "2023-03-12T20:21:52.221Z"
   },
   {
    "duration": 0,
    "start_time": "2023-03-12T20:21:52.223Z"
   },
   {
    "duration": 0,
    "start_time": "2023-03-12T20:21:52.224Z"
   },
   {
    "duration": 0,
    "start_time": "2023-03-12T20:21:52.225Z"
   },
   {
    "duration": 0,
    "start_time": "2023-03-12T20:21:52.226Z"
   },
   {
    "duration": 0,
    "start_time": "2023-03-12T20:21:52.227Z"
   },
   {
    "duration": 0,
    "start_time": "2023-03-12T20:21:52.229Z"
   },
   {
    "duration": 0,
    "start_time": "2023-03-12T20:21:52.230Z"
   },
   {
    "duration": 0,
    "start_time": "2023-03-12T20:21:52.231Z"
   },
   {
    "duration": 0,
    "start_time": "2023-03-12T20:21:52.232Z"
   },
   {
    "duration": 0,
    "start_time": "2023-03-12T20:21:52.233Z"
   },
   {
    "duration": 0,
    "start_time": "2023-03-12T20:21:52.234Z"
   },
   {
    "duration": 0,
    "start_time": "2023-03-12T20:21:52.235Z"
   },
   {
    "duration": 0,
    "start_time": "2023-03-12T20:21:52.236Z"
   },
   {
    "duration": 0,
    "start_time": "2023-03-12T20:21:52.237Z"
   },
   {
    "duration": 0,
    "start_time": "2023-03-12T20:21:52.238Z"
   },
   {
    "duration": 0,
    "start_time": "2023-03-12T20:21:52.239Z"
   },
   {
    "duration": 0,
    "start_time": "2023-03-12T20:21:52.240Z"
   },
   {
    "duration": 0,
    "start_time": "2023-03-12T20:21:52.242Z"
   },
   {
    "duration": 0,
    "start_time": "2023-03-12T20:21:52.244Z"
   },
   {
    "duration": 0,
    "start_time": "2023-03-12T20:21:52.245Z"
   },
   {
    "duration": 0,
    "start_time": "2023-03-12T20:21:52.247Z"
   },
   {
    "duration": 0,
    "start_time": "2023-03-12T20:21:52.248Z"
   },
   {
    "duration": 0,
    "start_time": "2023-03-12T20:21:52.255Z"
   },
   {
    "duration": 0,
    "start_time": "2023-03-12T20:21:52.256Z"
   },
   {
    "duration": 0,
    "start_time": "2023-03-12T20:21:52.258Z"
   },
   {
    "duration": 0,
    "start_time": "2023-03-12T20:21:52.259Z"
   },
   {
    "duration": 160,
    "start_time": "2023-03-12T20:22:36.185Z"
   },
   {
    "duration": 3,
    "start_time": "2023-03-12T20:23:08.997Z"
   },
   {
    "duration": 130,
    "start_time": "2023-03-12T20:23:12.838Z"
   },
   {
    "duration": 4,
    "start_time": "2023-03-12T20:29:37.715Z"
   },
   {
    "duration": 133,
    "start_time": "2023-03-12T20:29:39.273Z"
   },
   {
    "duration": 4,
    "start_time": "2023-03-12T20:31:03.132Z"
   },
   {
    "duration": 107,
    "start_time": "2023-03-12T20:31:05.233Z"
   },
   {
    "duration": 6,
    "start_time": "2023-03-12T20:33:44.555Z"
   },
   {
    "duration": 3,
    "start_time": "2023-03-12T20:34:12.984Z"
   },
   {
    "duration": 4543,
    "start_time": "2023-03-12T20:34:12.989Z"
   },
   {
    "duration": 9,
    "start_time": "2023-03-12T20:34:17.534Z"
   },
   {
    "duration": 1805,
    "start_time": "2023-03-12T20:34:17.556Z"
   },
   {
    "duration": 12,
    "start_time": "2023-03-12T20:34:19.363Z"
   },
   {
    "duration": 11,
    "start_time": "2023-03-12T20:34:19.377Z"
   },
   {
    "duration": 10,
    "start_time": "2023-03-12T20:34:19.390Z"
   },
   {
    "duration": 68,
    "start_time": "2023-03-12T20:34:19.401Z"
   },
   {
    "duration": 2,
    "start_time": "2023-03-12T20:34:19.472Z"
   },
   {
    "duration": 21,
    "start_time": "2023-03-12T20:34:19.476Z"
   },
   {
    "duration": 6,
    "start_time": "2023-03-12T20:34:19.498Z"
   },
   {
    "duration": 284,
    "start_time": "2023-03-12T20:34:19.505Z"
   },
   {
    "duration": 23,
    "start_time": "2023-03-12T20:34:19.791Z"
   },
   {
    "duration": 9,
    "start_time": "2023-03-12T20:34:19.816Z"
   },
   {
    "duration": 51,
    "start_time": "2023-03-12T20:34:19.827Z"
   },
   {
    "duration": 10,
    "start_time": "2023-03-12T20:34:19.880Z"
   },
   {
    "duration": 460,
    "start_time": "2023-03-12T20:34:19.891Z"
   },
   {
    "duration": 4,
    "start_time": "2023-03-12T20:34:20.354Z"
   },
   {
    "duration": 12,
    "start_time": "2023-03-12T20:34:20.360Z"
   },
   {
    "duration": 568,
    "start_time": "2023-03-12T20:34:20.374Z"
   },
   {
    "duration": 0,
    "start_time": "2023-03-12T20:34:20.945Z"
   },
   {
    "duration": 0,
    "start_time": "2023-03-12T20:34:20.946Z"
   },
   {
    "duration": 0,
    "start_time": "2023-03-12T20:34:20.947Z"
   },
   {
    "duration": 0,
    "start_time": "2023-03-12T20:34:20.948Z"
   },
   {
    "duration": 0,
    "start_time": "2023-03-12T20:34:20.949Z"
   },
   {
    "duration": 0,
    "start_time": "2023-03-12T20:34:20.950Z"
   },
   {
    "duration": 0,
    "start_time": "2023-03-12T20:34:20.951Z"
   },
   {
    "duration": 0,
    "start_time": "2023-03-12T20:34:20.952Z"
   },
   {
    "duration": 0,
    "start_time": "2023-03-12T20:34:20.953Z"
   },
   {
    "duration": 0,
    "start_time": "2023-03-12T20:34:20.954Z"
   },
   {
    "duration": 0,
    "start_time": "2023-03-12T20:34:20.956Z"
   },
   {
    "duration": 0,
    "start_time": "2023-03-12T20:34:20.957Z"
   },
   {
    "duration": 0,
    "start_time": "2023-03-12T20:34:20.958Z"
   },
   {
    "duration": 0,
    "start_time": "2023-03-12T20:34:20.959Z"
   },
   {
    "duration": 0,
    "start_time": "2023-03-12T20:34:20.960Z"
   },
   {
    "duration": 0,
    "start_time": "2023-03-12T20:34:20.961Z"
   },
   {
    "duration": 0,
    "start_time": "2023-03-12T20:34:20.962Z"
   },
   {
    "duration": 0,
    "start_time": "2023-03-12T20:34:20.963Z"
   },
   {
    "duration": 0,
    "start_time": "2023-03-12T20:34:20.964Z"
   },
   {
    "duration": 0,
    "start_time": "2023-03-12T20:34:20.965Z"
   },
   {
    "duration": 0,
    "start_time": "2023-03-12T20:34:20.966Z"
   },
   {
    "duration": 0,
    "start_time": "2023-03-12T20:34:20.967Z"
   },
   {
    "duration": 0,
    "start_time": "2023-03-12T20:34:20.968Z"
   },
   {
    "duration": 0,
    "start_time": "2023-03-12T20:34:20.969Z"
   },
   {
    "duration": 0,
    "start_time": "2023-03-12T20:34:20.970Z"
   },
   {
    "duration": 0,
    "start_time": "2023-03-12T20:34:20.971Z"
   },
   {
    "duration": 0,
    "start_time": "2023-03-12T20:34:20.972Z"
   },
   {
    "duration": 0,
    "start_time": "2023-03-12T20:34:20.973Z"
   },
   {
    "duration": 0,
    "start_time": "2023-03-12T20:34:20.974Z"
   },
   {
    "duration": 0,
    "start_time": "2023-03-12T20:34:20.975Z"
   },
   {
    "duration": 0,
    "start_time": "2023-03-12T20:34:20.976Z"
   },
   {
    "duration": 0,
    "start_time": "2023-03-12T20:34:20.977Z"
   },
   {
    "duration": 5,
    "start_time": "2023-03-12T20:34:46.919Z"
   },
   {
    "duration": 119,
    "start_time": "2023-03-12T20:34:49.017Z"
   },
   {
    "duration": 4,
    "start_time": "2023-03-12T20:37:45.918Z"
   },
   {
    "duration": 4410,
    "start_time": "2023-03-12T20:37:45.923Z"
   },
   {
    "duration": 6,
    "start_time": "2023-03-12T20:37:50.335Z"
   },
   {
    "duration": 904,
    "start_time": "2023-03-12T20:37:50.343Z"
   },
   {
    "duration": 16,
    "start_time": "2023-03-12T20:37:51.250Z"
   },
   {
    "duration": 12,
    "start_time": "2023-03-12T20:37:51.268Z"
   },
   {
    "duration": 13,
    "start_time": "2023-03-12T20:37:51.282Z"
   },
   {
    "duration": 28,
    "start_time": "2023-03-12T20:37:51.297Z"
   },
   {
    "duration": 3,
    "start_time": "2023-03-12T20:37:51.356Z"
   },
   {
    "duration": 38,
    "start_time": "2023-03-12T20:37:51.361Z"
   },
   {
    "duration": 9,
    "start_time": "2023-03-12T20:37:51.401Z"
   },
   {
    "duration": 305,
    "start_time": "2023-03-12T20:37:51.412Z"
   },
   {
    "duration": 41,
    "start_time": "2023-03-12T20:37:51.719Z"
   },
   {
    "duration": 12,
    "start_time": "2023-03-12T20:37:51.765Z"
   },
   {
    "duration": 27,
    "start_time": "2023-03-12T20:37:51.779Z"
   },
   {
    "duration": 7,
    "start_time": "2023-03-12T20:37:51.808Z"
   },
   {
    "duration": 461,
    "start_time": "2023-03-12T20:37:51.817Z"
   },
   {
    "duration": 4,
    "start_time": "2023-03-12T20:37:52.280Z"
   },
   {
    "duration": 641,
    "start_time": "2023-03-12T20:37:52.286Z"
   },
   {
    "duration": 0,
    "start_time": "2023-03-12T20:37:52.929Z"
   },
   {
    "duration": 0,
    "start_time": "2023-03-12T20:37:52.930Z"
   },
   {
    "duration": 0,
    "start_time": "2023-03-12T20:37:52.931Z"
   },
   {
    "duration": 0,
    "start_time": "2023-03-12T20:37:52.933Z"
   },
   {
    "duration": 0,
    "start_time": "2023-03-12T20:37:52.934Z"
   },
   {
    "duration": 0,
    "start_time": "2023-03-12T20:37:52.935Z"
   },
   {
    "duration": 0,
    "start_time": "2023-03-12T20:37:52.936Z"
   },
   {
    "duration": 0,
    "start_time": "2023-03-12T20:37:52.937Z"
   },
   {
    "duration": 0,
    "start_time": "2023-03-12T20:37:52.938Z"
   },
   {
    "duration": 0,
    "start_time": "2023-03-12T20:37:52.939Z"
   },
   {
    "duration": 0,
    "start_time": "2023-03-12T20:37:52.941Z"
   },
   {
    "duration": 0,
    "start_time": "2023-03-12T20:37:52.942Z"
   },
   {
    "duration": 0,
    "start_time": "2023-03-12T20:37:52.942Z"
   },
   {
    "duration": 0,
    "start_time": "2023-03-12T20:37:52.944Z"
   },
   {
    "duration": 0,
    "start_time": "2023-03-12T20:37:52.945Z"
   },
   {
    "duration": 0,
    "start_time": "2023-03-12T20:37:52.945Z"
   },
   {
    "duration": 0,
    "start_time": "2023-03-12T20:37:52.946Z"
   },
   {
    "duration": 0,
    "start_time": "2023-03-12T20:37:52.947Z"
   },
   {
    "duration": 0,
    "start_time": "2023-03-12T20:37:52.948Z"
   },
   {
    "duration": 0,
    "start_time": "2023-03-12T20:37:52.949Z"
   },
   {
    "duration": 0,
    "start_time": "2023-03-12T20:37:52.951Z"
   },
   {
    "duration": 0,
    "start_time": "2023-03-12T20:37:52.952Z"
   },
   {
    "duration": 0,
    "start_time": "2023-03-12T20:37:52.954Z"
   },
   {
    "duration": 0,
    "start_time": "2023-03-12T20:37:52.955Z"
   },
   {
    "duration": 0,
    "start_time": "2023-03-12T20:37:52.957Z"
   },
   {
    "duration": 0,
    "start_time": "2023-03-12T20:37:52.958Z"
   },
   {
    "duration": 0,
    "start_time": "2023-03-12T20:37:52.960Z"
   },
   {
    "duration": 0,
    "start_time": "2023-03-12T20:37:52.961Z"
   },
   {
    "duration": 0,
    "start_time": "2023-03-12T20:37:52.963Z"
   },
   {
    "duration": 0,
    "start_time": "2023-03-12T20:37:52.964Z"
   },
   {
    "duration": 0,
    "start_time": "2023-03-12T20:37:52.965Z"
   },
   {
    "duration": 0,
    "start_time": "2023-03-12T20:37:52.967Z"
   },
   {
    "duration": 3,
    "start_time": "2023-03-12T20:38:23.451Z"
   },
   {
    "duration": 4950,
    "start_time": "2023-03-12T20:38:23.456Z"
   },
   {
    "duration": 6,
    "start_time": "2023-03-12T20:38:28.407Z"
   },
   {
    "duration": 815,
    "start_time": "2023-03-12T20:38:28.415Z"
   },
   {
    "duration": 12,
    "start_time": "2023-03-12T20:38:29.233Z"
   },
   {
    "duration": 10,
    "start_time": "2023-03-12T20:38:29.255Z"
   },
   {
    "duration": 6,
    "start_time": "2023-03-12T20:38:29.267Z"
   },
   {
    "duration": 36,
    "start_time": "2023-03-12T20:38:29.275Z"
   },
   {
    "duration": 3,
    "start_time": "2023-03-12T20:38:29.313Z"
   },
   {
    "duration": 52,
    "start_time": "2023-03-12T20:38:29.318Z"
   },
   {
    "duration": 6,
    "start_time": "2023-03-12T20:38:29.372Z"
   },
   {
    "duration": 260,
    "start_time": "2023-03-12T20:38:29.379Z"
   },
   {
    "duration": 27,
    "start_time": "2023-03-12T20:38:29.641Z"
   },
   {
    "duration": 8,
    "start_time": "2023-03-12T20:38:29.671Z"
   },
   {
    "duration": 27,
    "start_time": "2023-03-12T20:38:29.681Z"
   },
   {
    "duration": 7,
    "start_time": "2023-03-12T20:38:29.710Z"
   },
   {
    "duration": 454,
    "start_time": "2023-03-12T20:38:29.718Z"
   },
   {
    "duration": 4,
    "start_time": "2023-03-12T20:38:30.174Z"
   },
   {
    "duration": 199,
    "start_time": "2023-03-12T20:38:30.179Z"
   },
   {
    "duration": 962119,
    "start_time": "2023-03-12T20:38:30.379Z"
   },
   {
    "duration": 2,
    "start_time": "2023-03-12T20:54:32.500Z"
   },
   {
    "duration": 8,
    "start_time": "2023-03-12T20:54:32.504Z"
   },
   {
    "duration": 49,
    "start_time": "2023-03-12T20:54:32.513Z"
   },
   {
    "duration": 46,
    "start_time": "2023-03-12T20:54:32.564Z"
   },
   {
    "duration": 11,
    "start_time": "2023-03-12T20:54:32.612Z"
   },
   {
    "duration": 7,
    "start_time": "2023-03-12T20:54:32.624Z"
   },
   {
    "duration": 39,
    "start_time": "2023-03-12T20:54:32.633Z"
   },
   {
    "duration": 26,
    "start_time": "2023-03-12T20:54:32.674Z"
   },
   {
    "duration": 2,
    "start_time": "2023-03-12T20:54:32.701Z"
   },
   {
    "duration": 85,
    "start_time": "2023-03-12T20:54:32.705Z"
   },
   {
    "duration": 6,
    "start_time": "2023-03-12T20:54:32.792Z"
   },
   {
    "duration": 5,
    "start_time": "2023-03-12T20:54:32.799Z"
   },
   {
    "duration": 4,
    "start_time": "2023-03-12T20:54:32.805Z"
   },
   {
    "duration": 7,
    "start_time": "2023-03-12T20:54:32.811Z"
   },
   {
    "duration": 2732043,
    "start_time": "2023-03-12T20:54:32.819Z"
   },
   {
    "duration": 19,
    "start_time": "2023-03-12T21:40:04.863Z"
   },
   {
    "duration": 77,
    "start_time": "2023-03-12T21:40:04.886Z"
   },
   {
    "duration": 11,
    "start_time": "2023-03-12T21:40:04.970Z"
   }
  ],
  "kernelspec": {
   "display_name": "Python 3 (ipykernel)",
   "language": "python",
   "name": "python3"
  },
  "language_info": {
   "codemirror_mode": {
    "name": "ipython",
    "version": 3
   },
   "file_extension": ".py",
   "mimetype": "text/x-python",
   "name": "python",
   "nbconvert_exporter": "python",
   "pygments_lexer": "ipython3",
   "version": "3.9.16"
  },
  "toc": {
   "base_numbering": 1,
   "nav_menu": {},
   "number_sections": false,
   "sideBar": true,
   "skip_h1_title": true,
   "title_cell": "Содержание",
   "title_sidebar": "Contents",
   "toc_cell": true,
   "toc_position": {
    "height": "calc(100% - 180px)",
    "left": "10px",
    "top": "150px",
    "width": "302.391px"
   },
   "toc_section_display": true,
   "toc_window_display": true
  }
 },
 "nbformat": 4,
 "nbformat_minor": 4
}
